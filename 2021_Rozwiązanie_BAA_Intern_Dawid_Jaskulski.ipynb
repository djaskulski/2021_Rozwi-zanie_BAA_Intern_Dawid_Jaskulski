{
 "cells": [
  {
   "cell_type": "code",
   "execution_count": 1,
   "id": "hawaiian-shareware",
   "metadata": {},
   "outputs": [],
   "source": [
    "import pandas as pd\n",
    "import seaborn as sns\n",
    "import matplotlib.pyplot as plt\n",
    "import datetime\n",
    "import json\n",
    "import time\n",
    "import requests"
   ]
  },
  {
   "cell_type": "code",
   "execution_count": 2,
   "id": "731ff911-4441-4a85-be7d-797ca1b3b4ec",
   "metadata": {},
   "outputs": [],
   "source": [
    "def main():\n",
    "    \n",
    "    pd.options.mode.chained_assignment = None \n",
    "    \n",
    "    api_decision = input(\"Do you want to do API requests? (requires ~20 minutes)? y/n: \")\n",
    "    \n",
    "     #----------------API----------------\n",
    "    \n",
    "    if api_decision == \"y\":\n",
    "        \n",
    "        url = \"https://api.covid19api.com\"\n",
    "        \n",
    "        check_connection(base=url)\n",
    "        \n",
    "        get_countries_list = request_countries(base=url)\n",
    "        \n",
    "        print_countries(c_list=get_countries_list)\n",
    "\n",
    "        year_data_with_responses = gather_countries(c_list=get_countries_list, base=url)\n",
    "        # returns: [countries_with_empty_response: list, countries_with_response: list, countries_df: DataFrame]\n",
    "\n",
    "        empty_response_list = year_data_with_responses[0]\n",
    "        non_empty_response_list = year_data_with_responses[1]\n",
    "        world = year_data_with_responses[2]\n",
    "\n",
    "        day_by_day_period_1 = make_period(from_data=[2020, 4, 1], to_date=[2021, 3, 30])\n",
    "        day_by_day_period_2 = make_period(from_data=[2020, 4, 2], to_date=[2021, 3, 31])\n",
    "        \n",
    "        united_states = gather_day_by_day(periods_1=day_by_day_period_1, periods_2=day_by_day_period_2, base=url)\n",
    "\n",
    "        update_to_non_empty_response(non_empty=non_empty_response_list, \n",
    "                                     empty=empty_response_list, \n",
    "                                     item=\"united-states\")\n",
    "\n",
    "        api_data = join_countries(df1=world, df2=united_states)\n",
    "        \n",
    "    elif api_decision == \"n\":\n",
    "        try:\n",
    "            api_data = load_csv_skip_api(path=\"data/world_and_usa_df.csv\")\n",
    "        except Exception as e:\n",
    "            print(\"Error has occurred: \", e, \"\\n\")\n",
    "        \n",
    "    else:\n",
    "        print(\"Nothing to do here, go home\")\n",
    "        \n",
    "    #----------------TOP10----------------\n",
    "    \n",
    "    for cat in [\"Recovered\", \"Confirmed\", \"Deaths\"]:\n",
    "        var1 = mask_date(data=api_data, category=cat, date_from=\"2021-3-1\", date_to=\"2021-3-31\")\n",
    "        var2 = count_absolute_difference(data=var1, category=cat) \n",
    "        var3 = group_sum_sort(data=var2, category=cat)\n",
    "        print(var3)\n",
    "        plot_category(data=var3, category=cat)\n",
    "        \n",
    "    #----------------ABC----------------"
   ]
  },
  {
   "cell_type": "code",
   "execution_count": 3,
   "id": "00d4261f-f6af-4527-baf0-b42976864786",
   "metadata": {},
   "outputs": [],
   "source": [
    "def check_connection(base: str) -> None:\n",
    "    try:\n",
    "        response = requests.get(base)\n",
    "        print(\"Connection is fine!\\n\")\n",
    "    except Exception as e:\n",
    "        print(\"Error has occurred: \", e, \"\\n\")"
   ]
  },
  {
   "cell_type": "code",
   "execution_count": 4,
   "id": "answering-custody",
   "metadata": {},
   "outputs": [],
   "source": [
    "def request_countries(base: str, show_response: bool = False) -> list:\n",
    "    \"\"\" \"\"\"\n",
    "    \n",
    "    response = requests.get(base + \"/countries\")\n",
    "    \n",
    "    if show_response:\n",
    "        print(response)\n",
    "    \n",
    "    countries_json = response.json()\n",
    "    countries_list = []\n",
    "\n",
    "    for item in countries_json:\n",
    "        my_list = []\n",
    "        my_list = item.get('Slug')\n",
    "        countries_list.append(my_list)\n",
    "    \n",
    "    return countries_list"
   ]
  },
  {
   "cell_type": "code",
   "execution_count": 5,
   "id": "f6baf958-0b28-434d-ab04-05ca20a84308",
   "metadata": {},
   "outputs": [],
   "source": [
    "def print_countries(c_list: list) -> None:\n",
    "    \"\"\" \"\"\"\n",
    "    \n",
    "    data = c_list\n",
    "    print(\"Number of all countries: \", len(data))\n",
    "    print(*data, \"\\n\", sep = \", \")"
   ]
  },
  {
   "cell_type": "code",
   "execution_count": 6,
   "id": "interesting-lyric",
   "metadata": {},
   "outputs": [],
   "source": [
    "def gather_countries(c_list: list, base: str, save: bool = False) -> list:\n",
    "    \"\"\"time: ~ 9-15 min\"\"\"\n",
    "    \n",
    "    data = c_list\n",
    "    countries_with_empty_response = []\n",
    "    countries_with_response = []\n",
    "    countries_data_list = []\n",
    "    \n",
    "    for country in data:\n",
    "        response = requests.get(base + '/country/' + country + '?from=2020-04-01T00:00:00Z&to=2021-03-31T00:00:00Z')\n",
    "        country_response = response.json()\n",
    "\n",
    "        if len(country_response) <= 2:\n",
    "            countries_with_empty_response.append(country)\n",
    "            #continue\n",
    "        else:\n",
    "            countries_with_response.append(country)\n",
    "\n",
    "            for item in country_response:\n",
    "                my_dict = {}\n",
    "                my_dict['Country'] = item.get('Country')\n",
    "                my_dict['Confirmed'] = item.get('Confirmed')\n",
    "                my_dict['Deaths'] = item.get('Deaths')\n",
    "                my_dict['Recovered'] = item.get('Recovered')\n",
    "                my_dict['Active'] = item.get('Active')\n",
    "                my_dict['Date'] = item.get('Date')\n",
    "\n",
    "                countries_data_list.append(my_dict)\n",
    "        time.sleep(1)\n",
    "    \n",
    "    countries_data_json = json.dumps(countries_data_list)\n",
    "    countries_df = pd.read_json(countries_data_json)\n",
    "    \n",
    "    if save:\n",
    "        countries_df.to_csv('data/countries_df.csv', index=False)\n",
    "    \n",
    "    return [countries_with_empty_response, countries_with_response, countries_df]"
   ]
  },
  {
   "cell_type": "code",
   "execution_count": 7,
   "id": "numeric-retail",
   "metadata": {},
   "outputs": [],
   "source": [
    "def make_period(from_data: list, to_date: list) -> list:\n",
    "    \"\"\" \"\"\"\n",
    "    \n",
    "    start_date = datetime.date(from_data[0], from_data[1], from_data[2])\n",
    "    end_date = datetime.date(to_date[0], to_date[1], to_date[2])\n",
    "    delta = datetime.timedelta(days=1)\n",
    "    \n",
    "    dates_list = []\n",
    "\n",
    "    while start_date <= end_date:\n",
    "        dates_list.append(start_date)\n",
    "        start_date += delta\n",
    "\n",
    "    return dates_list"
   ]
  },
  {
   "cell_type": "code",
   "execution_count": 8,
   "id": "drawn-questionnaire",
   "metadata": {},
   "outputs": [],
   "source": [
    "def gather_day_by_day(periods_1: list, periods_2: list, base: str, save: bool = False) -> list:\n",
    "    \"\"\"time: ~ 27-30 min\"\"\"\n",
    "    \n",
    "    usa_data_list = []\n",
    "    \n",
    "    for from_date, to_date in zip(periods_1, periods_2):\n",
    "        response = requests.get(base + '/country/united-states' + f'?from={from_date}T00:00:00Z&to={to_date}T00:00:00Z')\n",
    "        usa_data_json = response.json()\n",
    "        \n",
    "        for item in usa_data_json:\n",
    "            my_dict = {}\n",
    "            my_dict['Country'] = item.get('Country')\n",
    "            my_dict['Confirmed'] = item.get('Confirmed')\n",
    "            my_dict['Deaths'] = item.get('Deaths')\n",
    "            my_dict['Recovered'] = item.get('Recovered')\n",
    "            my_dict['Active'] = item.get('Active')\n",
    "            my_dict['Date'] = item.get('Date')\n",
    "\n",
    "            usa_data_list.append(my_dict)\n",
    "        time.sleep(1)\n",
    "    \n",
    "    usa_data = json.dumps(usa_data_list)\n",
    "    country_usa_df = pd.read_json(usa_data)\n",
    "\n",
    "    if save:\n",
    "        country_usa_df.to_csv('data/country_usa_df.csv', index=False)\n",
    "    \n",
    "    return country_usa_df"
   ]
  },
  {
   "cell_type": "code",
   "execution_count": 9,
   "id": "exotic-little",
   "metadata": {},
   "outputs": [],
   "source": [
    "def update_to_non_empty_response(non_empty: list, empty: list, item: str = \"united-states\") -> list:\n",
    "    \"\"\" \"\"\"\n",
    "    \n",
    "    non_empty.append(item)\n",
    "    print(\"Number of countries with data: \", len(non_empty))\n",
    "    print(*non_empty, \"\\n\", sep = \", \") \n",
    "\n",
    "    empty.remove(item)\n",
    "    print(\"Number of countries without data: \", len(empty))\n",
    "    print(*empty, \"\\n\", sep = \", \")\n",
    "    \n",
    "    return [non_empty, empty]"
   ]
  },
  {
   "cell_type": "code",
   "execution_count": 10,
   "id": "e9d5abae-b457-49ef-b244-38193b3cc24f",
   "metadata": {},
   "outputs": [],
   "source": [
    "def join_countries(df1: pd.DataFrame, df2: pd.DataFrame) -> pd.DataFrame:   \n",
    "    \"\"\" \"\"\"\n",
    "    \n",
    "    countries_and_usa_df = df1.append(df2)\n",
    "    countries_and_usa_df.to_csv('data/world_and_usa_df.csv', index=False)\n",
    "    print(\"Finished dataframe:\\n\", countries_and_usa_df)\n",
    "    \n",
    "    return countries_and_usa_df"
   ]
  },
  {
   "cell_type": "code",
   "execution_count": 11,
   "id": "fa7a3d49-994b-49e9-8edf-6301afc840f8",
   "metadata": {},
   "outputs": [],
   "source": [
    "def load_csv_skip_api(path : str = \"data/world_and_usa_df.csv\") -> pd.DataFrame:\n",
    "    \"\"\"save 20 minutes of your life, skip api, load csv\"\"\"\n",
    "    \n",
    "    data = pd.read_csv(\"data/world_and_usa_df.csv\")\n",
    "    print(\"Data successfully loaded to 'api_data' variable!\")\n",
    "    \n",
    "    return data"
   ]
  },
  {
   "cell_type": "code",
   "execution_count": 12,
   "id": "1406ab1b-5960-4aab-a109-2cef23d4ca4c",
   "metadata": {},
   "outputs": [],
   "source": [
    "def mask_date(data: pd.DataFrame, category: str, date_from: str, date_to: str) -> pd.DataFrame:\n",
    "    \"\"\" \"\"\"\n",
    "    \n",
    "    top_category_df = data[['Country', category, 'Date']]\n",
    "    top_category_df['Date'] = top_category_df['Date'].astype(str).str[:10]\n",
    "    top_category_df['Date'] = pd.to_datetime(top_category_df['Date'])\n",
    "    \n",
    "    date_mask = (top_category_df['Date'] >= date_from) & (top_category_df['Date'] <= date_to)\n",
    "    top_category_df = top_category_df.loc[date_mask]\n",
    "    \n",
    "    top_category_df.reset_index(drop=True, inplace=True)\n",
    "    \n",
    "    return top_category_df"
   ]
  },
  {
   "cell_type": "code",
   "execution_count": 13,
   "id": "67855cf5-9a5b-4aaa-a482-f37770ff4ea3",
   "metadata": {},
   "outputs": [],
   "source": [
    "def count_absolute_difference(data: pd.DataFrame, category: str) -> pd.DataFrame:\n",
    "    \"\"\" \"\"\"\n",
    "    \n",
    "    top_category_df = data[['Country', 'Date', category]].groupby(['Country', 'Date']).sum()\n",
    "    top_category_df.reset_index(inplace=True)\n",
    "    \n",
    "    top_category_df['Test'] = top_category_df[category]\n",
    "    top_category_df[f'{category}_increment'] = 0\n",
    "    # top_category_df\n",
    "    \n",
    "    # 1 month limit means records for 1 country from last month\n",
    "    month_limit = 30\n",
    "    # 5889 is last index, so there're 5890 rows -> 5890 / 190 = 31\n",
    "    df_limit = 5889\n",
    "    index_counter = 0\n",
    "\n",
    "    while month_limit <= df_limit:          \n",
    "    \n",
    "        while index_counter <= month_limit and index_counter <= df_limit: \n",
    "            if index_counter == 5889: \n",
    "                break\n",
    "            else:\n",
    "                # assigned value is our absolute difference = second row for category - first row for test\n",
    "                # (test is a copy of category). To better understanding uncomment 'top_category_df'\n",
    "                top_category_df[f'{category}_increment'][index_counter+1] = top_category_df[category][index_counter+1] - top_category_df['Test'][index_counter]\n",
    "                index_counter += 1                 \n",
    "\n",
    "        if index_counter >= month_limit:                               \n",
    "            month_limit += 31\n",
    "\n",
    "    return top_category_df"
   ]
  },
  {
   "cell_type": "code",
   "execution_count": 14,
   "id": "0b6128eb-7432-4e17-a664-7b38e33bca3b",
   "metadata": {},
   "outputs": [],
   "source": [
    "def group_sum_sort(data: pd.DataFrame, category: str) -> pd.DataFrame:\n",
    "    \"\"\" \"\"\"\n",
    "    \n",
    "    top_category_df = data[['Country', f'{category}_increment', 'Date']]\n",
    "    \n",
    "    top_category_df = top_category_df.groupby(by=\"Country\").sum()\n",
    "    top_category_df = top_category_df.sort_values(by=f'{category}_increment', ascending=False).head(10)\n",
    "    \n",
    "    return top_category_df"
   ]
  },
  {
   "cell_type": "code",
   "execution_count": 15,
   "id": "c48e8328-9d6f-48e1-879e-7b74d56e6ef8",
   "metadata": {},
   "outputs": [],
   "source": [
    "def plot_category(data: pd.DataFrame, category: str) -> plt:\n",
    "    \"\"\" \"\"\"\n",
    "    \n",
    "    plt.figure(figsize=(10 ,7))\n",
    "    sns.barplot(x=data.index, y=f'{category}_increment', data=data)\n",
    "    plt.title(f\"TOP 10 countries with the highest number of {category} cases in the last month\")\n",
    "    plt.xticks(rotation=45)\n",
    "    plt.grid()\n",
    "    plt.tight_layout()\n",
    "    \n",
    "    return plt.show()"
   ]
  },
  {
   "cell_type": "code",
   "execution_count": null,
   "id": "a7457d32-6208-4481-adc0-a6a1021a60aa",
   "metadata": {},
   "outputs": [],
   "source": []
  },
  {
   "cell_type": "code",
   "execution_count": null,
   "id": "392260f4-e3dc-4bc3-aeb6-c9f2e46a87cf",
   "metadata": {},
   "outputs": [],
   "source": []
  },
  {
   "cell_type": "markdown",
   "id": "incorrect-color",
   "metadata": {},
   "source": [
    "# Statystyki z wyzdrowień, nowych przypadków zachorowań oraz przypadków śmiertelnych dla Polski za ostatni miesiąc"
   ]
  },
  {
   "cell_type": "code",
   "execution_count": null,
   "id": "ranking-lying",
   "metadata": {},
   "outputs": [],
   "source": [
    "# reduce countries_df to Poland records\n",
    "poland_df = countries_df.loc[countries_df[\"Country\"]=='Poland']\n",
    "poland_df.reset_index(drop=True, inplace=True)"
   ]
  },
  {
   "cell_type": "code",
   "execution_count": null,
   "id": "coastal-gates",
   "metadata": {},
   "outputs": [],
   "source": [
    "# data string slicing - reducting data to year-month-day\n",
    "poland_df['Date'] = poland_df['Date'].astype(str).str[:10]\n",
    "# back to datatime type\n",
    "poland_df['Date'] = pd.to_datetime(poland_df['Date'])  \n",
    "# masking date data\n",
    "date_mask = (poland_df['Date'] >= '2021-3-1') & (poland_df['Date'] <= '2021-3-31')\n",
    "# re-assign to variable\n",
    "poland_df = poland_df.loc[date_mask]\n",
    "poland_df.reset_index(drop=True, inplace=True)"
   ]
  },
  {
   "cell_type": "code",
   "execution_count": null,
   "id": "modular-differential",
   "metadata": {},
   "outputs": [],
   "source": [
    "# managing outliner in 'Active' column\n",
    "idx = poland_df.index[poland_df['Active'] > 1e6].tolist()\n",
    "poland_df.iloc[idx[0], 4] = poland_df.iloc[idx[0], 1] - poland_df.iloc[idx[0], 2] - poland_df.iloc[idx[0], 3]"
   ]
  },
  {
   "cell_type": "code",
   "execution_count": null,
   "id": "medical-count",
   "metadata": {},
   "outputs": [],
   "source": [
    "poland_df"
   ]
  },
  {
   "cell_type": "code",
   "execution_count": null,
   "id": "visible-delivery",
   "metadata": {},
   "outputs": [],
   "source": [
    "fig, axes = plt.subplots(4, 1, figsize=(12, 10), sharex=True)\n",
    "\n",
    "plt.suptitle(\"Statystyki dla Polski za ostatni miesiąc\", fontsize=14)\n",
    "\n",
    "sns.lineplot(ax=axes[0], data=poland_df, x='Date', y='Confirmed', color='orange', linewidth=2)\n",
    "axes[0].set_title(\"Confirmed\")\n",
    "axes[0].set_yticks(range(int(16e5), int(25e5), int(1e5)))\n",
    "axes[0].grid(True)\n",
    "\n",
    "sns.lineplot(ax=axes[1], data=poland_df, x='Date', y='Deaths', color='red', linewidth=2)\n",
    "axes[1].set_title(\"Deaths\")\n",
    "axes[1].set_yticks(range(42000, 56000, 2000))\n",
    "axes[1].grid(True)\n",
    "\n",
    "sns.lineplot(ax=axes[2], data=poland_df, x='Date', y='Recovered', color='green', linewidth=2)\n",
    "axes[2].set_title(\"Recovered\")\n",
    "axes[2].set_yticks(range(int(14e5), int(20e5), int(1e5)))\n",
    "axes[2].grid(True)\n",
    "\n",
    "sns.lineplot(ax=axes[3], data=poland_df, x='Date', y='Active', color='blue', linewidth=2)\n",
    "axes[3].tick_params(axis='x', rotation=90)\n",
    "axes[3].set_title(\"Active\")\n",
    "axes[3].set_yticks(range(200000, 480000, 40000))\n",
    "axes[3].set_xticks(poland_df['Date'])\n",
    "axes[3].grid(True)\n",
    "\n",
    "#plt.tight_layout();"
   ]
  },
  {
   "cell_type": "markdown",
   "id": "specified-samba",
   "metadata": {},
   "source": [
    "# Miesięczny przyrost wyzdrowień w ostatnim roku"
   ]
  },
  {
   "cell_type": "code",
   "execution_count": null,
   "id": "stopped-visiting",
   "metadata": {},
   "outputs": [],
   "source": [
    "# picking columns from countries_and_usa_df\n",
    "top_recovered_df = countries_and_usa_df[['Country', 'Recovered', 'Date']]"
   ]
  },
  {
   "cell_type": "code",
   "execution_count": null,
   "id": "compressed-python",
   "metadata": {},
   "outputs": [],
   "source": [
    "# data string slicing - reducting data to year-month-day\n",
    "top_recovered_df['Date'] = top_recovered_df['Date'].astype(str).str[:7]"
   ]
  },
  {
   "cell_type": "code",
   "execution_count": null,
   "id": "found-vietnamese",
   "metadata": {},
   "outputs": [],
   "source": [
    "top_recovered_df = top_recovered_df[['Country', 'Date', 'Recovered']].groupby(['Country', 'Date']).sum()\n",
    "top_recovered_df.reset_index(inplace=True)"
   ]
  },
  {
   "cell_type": "code",
   "execution_count": null,
   "id": "loaded-infection",
   "metadata": {},
   "outputs": [],
   "source": [
    "# Recovered column copy\n",
    "top_recovered_df['Test'] = top_recovered_df['Recovered']\n",
    "# increment empty column\n",
    "top_recovered_df['Recovered_increment'] = 0"
   ]
  },
  {
   "cell_type": "code",
   "execution_count": null,
   "id": "sonic-merchant",
   "metadata": {},
   "outputs": [],
   "source": [
    "month_limit = 30\n",
    "df_limit = 2279\n",
    "index_counter = 0\n",
    "\n",
    "\n",
    "while month_limit <= df_limit:          \n",
    "    \n",
    "    while index_counter <= month_limit and index_counter <= df_limit: \n",
    "        if index_counter == 2279: \n",
    "            break\n",
    "        else:\n",
    "            top_recovered_df['Recovered_increment'][index_counter+1] = top_recovered_df['Recovered'][index_counter+1] - top_recovered_df['Test'][index_counter]\n",
    "            index_counter += 1\n",
    "            #print(index_counter)                 \n",
    "\n",
    "    if index_counter >= month_limit:                               \n",
    "        month_limit += 31        "
   ]
  },
  {
   "cell_type": "code",
   "execution_count": null,
   "id": "daily-health",
   "metadata": {},
   "outputs": [],
   "source": [
    "top_recovered_df.loc[top_recovered_df['Recovered_increment'] < 0, 'Recovered_increment'] = 0"
   ]
  },
  {
   "cell_type": "code",
   "execution_count": null,
   "id": "korean-strategy",
   "metadata": {},
   "outputs": [],
   "source": [
    "# cleaner look to df\n",
    "top_recovered_df = top_recovered_df[['Country', 'Recovered', 'Recovered_increment', 'Date']]\n",
    "# group by date(month) and sum increment\n",
    "top_recovered_df = top_recovered_df.groupby(by=\"Date\").sum()"
   ]
  },
  {
   "cell_type": "code",
   "execution_count": null,
   "id": "driving-yield",
   "metadata": {},
   "outputs": [],
   "source": [
    "# sorting by increment and return first 10\n",
    "top_recovered_df = top_recovered_df.sort_values(by='Date', ascending=True)"
   ]
  },
  {
   "cell_type": "code",
   "execution_count": null,
   "id": "incoming-borough",
   "metadata": {},
   "outputs": [],
   "source": [
    "top_recovered_df"
   ]
  },
  {
   "cell_type": "code",
   "execution_count": null,
   "id": "listed-enough",
   "metadata": {},
   "outputs": [],
   "source": [
    "fig, axes = plt.subplots(2, 1, figsize=(10, 7), sharex=True)\n",
    "\n",
    "plt.suptitle(\"Miesięczny przyrost wyzdrowień w ostatnim roku\", fontsize=14)\n",
    "\n",
    "sns.lineplot(ax=axes[0], data=top_recovered_df, x='Date', y='Recovered_increment', color='red', linewidth=2)\n",
    "axes[0].set_title(\"Increment\")\n",
    "axes[0].grid(True)\n",
    "\n",
    "sns.lineplot(ax=axes[1], data=top_recovered_df, x='Date', y='Recovered', color='green', linewidth=2)\n",
    "axes[1].set_title(\"Recovered\")\n",
    "axes[1].tick_params(axis='x', rotation=45)\n",
    "axes[1].grid(True)\n",
    "\n",
    "#plt.tight_layout()"
   ]
  },
  {
   "cell_type": "code",
   "execution_count": null,
   "id": "f164040c-5294-4d61-ad7c-7ad378aeeafd",
   "metadata": {},
   "outputs": [],
   "source": [
    "# if __name__ == \"__main__\":\n",
    "#     main()"
   ]
  },
  {
   "cell_type": "code",
   "execution_count": null,
   "id": "80f49f7d-8997-4360-aca2-649589036476",
   "metadata": {},
   "outputs": [],
   "source": [
    "# # shell command convert .ipynb to .py\n",
    "# !jupyter nbconvert --to script 2021_Rozwiązanie_BAA_Intern_Dawid_Jaskulski.ipynb"
   ]
  }
 ],
 "metadata": {
  "kernelspec": {
   "display_name": "Python 3",
   "language": "python",
   "name": "python3"
  },
  "language_info": {
   "codemirror_mode": {
    "name": "ipython",
    "version": 3
   },
   "file_extension": ".py",
   "mimetype": "text/x-python",
   "name": "python",
   "nbconvert_exporter": "python",
   "pygments_lexer": "ipython3",
   "version": "3.8.5"
  },
  "toc-autonumbering": false,
  "toc-showcode": false,
  "toc-showmarkdowntxt": false,
  "toc-showtags": false
 },
 "nbformat": 4,
 "nbformat_minor": 5
}
