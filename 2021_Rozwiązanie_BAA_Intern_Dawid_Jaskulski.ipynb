{
 "cells": [
  {
   "cell_type": "code",
   "execution_count": 15,
   "id": "hawaiian-shareware",
   "metadata": {},
   "outputs": [],
   "source": [
    "import pandas as pd\n",
    "import seaborn as sns\n",
    "import matplotlib.pyplot as plt\n",
    "import datetime\n",
    "import json\n",
    "import time\n",
    "import requests\n",
    "from typing import Callable"
   ]
  },
  {
   "cell_type": "code",
   "execution_count": 16,
   "id": "educational-check",
   "metadata": {},
   "outputs": [],
   "source": [
    "#pd.set_option('mode.chained_assignment', None)"
   ]
  },
  {
   "cell_type": "markdown",
   "id": "accessory-fleece",
   "metadata": {},
   "source": [
    "# Przygotowanie danych"
   ]
  },
  {
   "cell_type": "markdown",
   "id": "twenty-acrobat",
   "metadata": {},
   "source": [
    "## Lista wszystkich państw"
   ]
  },
  {
   "cell_type": "code",
   "execution_count": 17,
   "id": "2b70cc69-ede9-47df-a52f-8835c42a671c",
   "metadata": {},
   "outputs": [],
   "source": [
    "# Źródło: https://api.covid19api.com/countries"
   ]
  },
  {
   "cell_type": "code",
   "execution_count": 42,
   "id": "answering-custody",
   "metadata": {},
   "outputs": [],
   "source": [
    "def request_countries(show_response: bool = False) -> list:\n",
    "    \"\"\" \"\"\"\n",
    "    \n",
    "    base = \"https://api.covid19api.com\"\n",
    "    response = requests.get(base + \"/countries\")\n",
    "    \n",
    "    if show_response:\n",
    "        print(response)\n",
    "    \n",
    "    countries_json = response.json()\n",
    "    countries_list = []\n",
    "\n",
    "    for item in countries_json:\n",
    "        my_list = []\n",
    "        my_list = item.get('Slug')\n",
    "        countries_list.append(my_list)\n",
    "    \n",
    "    return countries_list"
   ]
  },
  {
   "cell_type": "code",
   "execution_count": 43,
   "id": "f6baf958-0b28-434d-ab04-05ca20a84308",
   "metadata": {},
   "outputs": [],
   "source": [
    "def countries_print(obj: Callable = request_countries) -> None:\n",
    "    \"\"\" \"\"\"\n",
    "    \n",
    "    data = obj()\n",
    "    print(\"Liczba wszystkich państw: \", len(data))\n",
    "    print(*data, sep = \", \")"
   ]
  },
  {
   "cell_type": "code",
   "execution_count": 44,
   "id": "7641d274-6988-4e85-b000-60388bb9ad72",
   "metadata": {},
   "outputs": [
    {
     "name": "stdout",
     "output_type": "stream",
     "text": [
      "Liczba wszystkich państw:  248\n",
      "ala-aland-islands, british-virgin-islands, colombia, ethiopia, guernsey, switzerland, zambia, norfolk-island, brazil, tunisia, cambodia, djibouti, sierra-leone, slovenia, western-sahara, austria, maldives, christmas-island, argentina, cocos-keeling-islands, lebanon, monaco, new-caledonia, vietnam, norway, turks-and-caicos-islands, turkey, korea-north, solomon-islands, uzbekistan, vanuatu, british-indian-ocean-territory, tokelau, yemen, bolivia, bahamas, andorra, afghanistan, antigua-and-barbuda, fiji, malawi, bahrain, germany, gabon, guam, kenya, syria, kiribati, panama, botswana, china, aruba, mongolia, svalbard-and-jan-mayen-islands, united-kingdom, greenland, croatia, french-guiana, niger, portugal, kosovo, guatemala, brunei, iceland, new-zealand, oman, philippines, saint-helena, palestine, montserrat, chile, guinea, guyana, mali, northern-mariana-islands, qatar, singapore, cuba, guadeloupe, zimbabwe, bouvet-island, honduras, kazakhstan, kyrgyzstan, saint-lucia, benin, lithuania, tonga, lao-pdr, french-southern-territories, ghana, paraguay, puerto-rico, sri-lanka, us-minor-outlying-islands, cote-divoire, equatorial-guinea, mexico, angola, dominica, gambia, netherlands-antilles, san-marino, saudi-arabia, australia, czech-republic, denmark, ecuador, papua-new-guinea, peru, turkmenistan, armenia, bangladesh, indonesia, korea-south, saint-barthélemy, el-salvador, myanmar, saint-pierre-and-miquelon, bhutan, mauritania, french-polynesia, jersey, latvia, moldova, nicaragua, serbia, madagascar, malta, niue, poland, canada, barbados, bermuda, france, italy, senegal, india, trinidad-and-tobago, belarus, albania, hungary, marshall-islands, montenegro, rwanda, faroe-islands, mauritius, swaziland, thailand, togo, tuvalu, united-arab-emirates, bosnia-and-herzegovina, cyprus, ireland, algeria, cape-verde, congo-brazzaville, timor-leste, comoros, lesotho, nepal, sao-tome-and-principe, sudan, uganda, réunion, samoa, united-states, antarctica, cameroon, costa-rica, romania, egypt, israel, belgium, japan, cayman-islands, haiti, hong-kong-sar-china, russia, saint-vincent-and-the-grenadines, spain, anguilla, jordan, seychelles, south-sudan, burkina-faso, eritrea, falkland-islands-malvinas, liechtenstein, morocco, bulgaria, heard-and-mcdonald-islands, uruguay, american-samoa, georgia, gibraltar, macedonia, malaysia, nigeria, pakistan, pitcairn, somalia, jamaica, martinique, south-africa, sweden, guinea-bissau, holy-see-vatican-city-state, iran, micronesia, tajikistan, congo-kinshasa, finland, isle-of-man, liberia, mayotte, taiwan, virgin-islands, central-african-republic, south-georgia-and-the-south-sandwich-islands, suriname, wallis-and-futuna-islands, belize, netherlands, ukraine, venezuela, libya, macao-sar-china, palau, slovakia, greece, burundi, chad, cook-islands, dominican-republic, saint-kitts-and-nevis, iraq, kuwait, mozambique, nauru, azerbaijan, estonia, grenada, luxembourg, saint-martin-french-part, tanzania, namibia\n"
     ]
    }
   ],
   "source": [
    "countries_print()"
   ]
  },
  {
   "cell_type": "code",
   "execution_count": null,
   "id": "interesting-lyric",
   "metadata": {},
   "outputs": [],
   "source": [
    "def countries_print(obj: Callable = request_countries) -> None:\n",
    "    \"\"\" \"\"\"\n",
    "    \n",
    "    data = obj()\n",
    "    countries_with_empty_response = []\n",
    "    countries_with_response = []\n",
    "    countries_data_list = []\n",
    "\n",
    "\n",
    "    for country in data:\n",
    "        response = requests.get(base + '/country/' + country + '?from=2020-04-01T00:00:00Z&to=2021-03-31T00:00:00Z')\n",
    "        country_response = response.json()\n",
    "\n",
    "        if len(country_response) <= 2:\n",
    "            countries_with_empty_response.append(country)\n",
    "            #print(f'---{country}---{country_response}---')\n",
    "            continue\n",
    "        else:\n",
    "            countries_with_response.append(country)\n",
    "            #print(f'---{country}---passed---')\n",
    "\n",
    "            for item in country_response:\n",
    "                my_dict = {}\n",
    "                my_dict['Country'] = item.get('Country')\n",
    "                my_dict['Confirmed'] = item.get('Confirmed')\n",
    "                my_dict['Deaths'] = item.get('Deaths')\n",
    "                my_dict['Recovered'] = item.get('Recovered')\n",
    "                my_dict['Active'] = item.get('Active')\n",
    "                my_dict['Date'] = item.get('Date')\n",
    "\n",
    "                countries_data_list.append(my_dict)\n",
    "        time.sleep(1)\n",
    "        \n",
    "    return ()"
   ]
  },
  {
   "cell_type": "code",
   "execution_count": null,
   "id": "3fe3b0d2-1815-4b1b-811f-19708ce69ad0",
   "metadata": {},
   "outputs": [],
   "source": [
    "print("
   ]
  },
  {
   "cell_type": "code",
   "execution_count": null,
   "id": "coral-opera",
   "metadata": {},
   "outputs": [],
   "source": [
    "# # new df based on list\n",
    "# countries_data_json = json.dumps(countries_data_list)\n",
    "# countries_df = pd.read_json(countries_data_json)\n",
    "\n",
    "# # saving dataframe to csv for safety purpose\n",
    "# countries_df.to_csv('countries_df.csv', index=False)"
   ]
  },
  {
   "cell_type": "code",
   "execution_count": null,
   "id": "polar-albania",
   "metadata": {},
   "outputs": [],
   "source": [
    "# countries_df = pd.read_csv(\"countries_df.csv\")"
   ]
  },
  {
   "cell_type": "code",
   "execution_count": null,
   "id": "numeric-retail",
   "metadata": {},
   "outputs": [],
   "source": [
    "# period of one year - from\n",
    "start_date = datetime.date(2020, 4, 1)\n",
    "end_date = datetime.date(2021, 3, 30)\n",
    "delta = datetime.timedelta(days=1)\n",
    "\n",
    "from_dates_list = []\n",
    "\n",
    "while start_date <= end_date:\n",
    "\n",
    "    #print(start_date)\n",
    "    from_dates_list.append(start_date)\n",
    "    start_date += delta\n",
    "    \n",
    "#print(*from_dates_list, '\\n')"
   ]
  },
  {
   "cell_type": "code",
   "execution_count": null,
   "id": "economic-updating",
   "metadata": {},
   "outputs": [],
   "source": [
    "# period of one year - to\n",
    "start_date = datetime.date(2020, 4, 2)\n",
    "end_date = datetime.date(2021, 3, 31)\n",
    "delta = datetime.timedelta(days=1)\n",
    "\n",
    "to_dates_list = []\n",
    "\n",
    "while start_date <= end_date:\n",
    "\n",
    "    #print(start_date)\n",
    "    to_dates_list.append(start_date)\n",
    "    start_date += delta\n",
    "    \n",
    "#print(*to_dates_list)"
   ]
  },
  {
   "cell_type": "code",
   "execution_count": null,
   "id": "drawn-questionnaire",
   "metadata": {},
   "outputs": [],
   "source": [
    "# usa_data_list = []\n",
    "\n",
    "\n",
    "# for from_date, to_date in zip(from_dates_list, to_dates_list):\n",
    "#     response = requests.get(base + '/country/united-states' + f'?from={from_date}T00:00:00Z&to={to_date}T00:00:00Z')\n",
    "#     usa_data_json = response.json()\n",
    "\n",
    "#     for item in usa_data_json:\n",
    "#         my_dict = {}\n",
    "#         my_dict['Country'] = item.get('Country')\n",
    "#         my_dict['Confirmed'] = item.get('Confirmed')\n",
    "#         my_dict['Deaths'] = item.get('Deaths')\n",
    "#         my_dict['Recovered'] = item.get('Recovered')\n",
    "#         my_dict['Active'] = item.get('Active')\n",
    "#         my_dict['Date'] = item.get('Date')\n",
    "\n",
    "#         usa_data_list.append(my_dict)\n",
    "#     time.sleep(1)"
   ]
  },
  {
   "cell_type": "code",
   "execution_count": null,
   "id": "heated-transcript",
   "metadata": {},
   "outputs": [],
   "source": [
    "# # new df based on list\n",
    "# usa_data = json.dumps(usa_data_list)\n",
    "# country_usa_df = pd.read_json(usa_data)"
   ]
  },
  {
   "cell_type": "code",
   "execution_count": null,
   "id": "narrow-range",
   "metadata": {},
   "outputs": [],
   "source": [
    "# # saving dataframe to csv for safety purpose\n",
    "# country_usa_df.to_csv('country_usa_df.csv', index=False)"
   ]
  },
  {
   "cell_type": "code",
   "execution_count": null,
   "id": "fitting-migration",
   "metadata": {},
   "outputs": [],
   "source": [
    "country_usa_df = pd.read_csv(\"country_usa_df.csv\")"
   ]
  },
  {
   "cell_type": "code",
   "execution_count": null,
   "id": "developing-fountain",
   "metadata": {},
   "outputs": [],
   "source": [
    "# appending two dfs = world data (190 countries)\n",
    "countries_and_usa_df = countries_df.append(country_usa_df)"
   ]
  },
  {
   "cell_type": "code",
   "execution_count": null,
   "id": "chief-shell",
   "metadata": {},
   "outputs": [],
   "source": [
    "# saving dataframe to csv for safety purpose\n",
    "countries_and_usa_df.to_csv('countries_and_usa_df.csv', index=False)"
   ]
  },
  {
   "cell_type": "markdown",
   "id": "patient-snowboard",
   "metadata": {},
   "source": [
    "## Lista państw z danymi"
   ]
  },
  {
   "cell_type": "code",
   "execution_count": null,
   "id": "exotic-little",
   "metadata": {},
   "outputs": [],
   "source": [
    "countries_with_response.append('united-states')\n",
    "print(\"Liczba państw z danymi\", len(countries_with_response))\n",
    "print(*countries_with_response, sep = \", \") "
   ]
  },
  {
   "cell_type": "markdown",
   "id": "latter-period",
   "metadata": {},
   "source": [
    "## Lista państw bez danych"
   ]
  },
  {
   "cell_type": "markdown",
   "id": "injured-slide",
   "metadata": {},
   "source": [
    "Brak danych dla tych państw."
   ]
  },
  {
   "cell_type": "code",
   "execution_count": null,
   "id": "pacific-genesis",
   "metadata": {},
   "outputs": [],
   "source": [
    "countries_with_response.remove('united-states')\n",
    "print(\"Liczba państw bez danych:\", len(countries_with_empty_response))\n",
    "print(*countries_with_empty_response, sep = \", \") "
   ]
  },
  {
   "cell_type": "markdown",
   "id": "valued-syndrome",
   "metadata": {},
   "source": [
    "## Tabela danych dla wkazanych państw"
   ]
  },
  {
   "cell_type": "code",
   "execution_count": null,
   "id": "aac7f15c-9829-4769-bde0-2448549656b7",
   "metadata": {},
   "outputs": [],
   "source": [
    "# Źródło: https://api.covid19api.com/country/{{country}}?from=2021-03-01T00:00:00Z&to=2021-03-31T00:00:00Z"
   ]
  },
  {
   "cell_type": "code",
   "execution_count": null,
   "id": "going-shepherd",
   "metadata": {},
   "outputs": [],
   "source": [
    "countries_and_usa_df"
   ]
  },
  {
   "cell_type": "code",
   "execution_count": null,
   "id": "f50627eb-abc6-4c63-8825-eb538696e143",
   "metadata": {},
   "outputs": [],
   "source": []
  },
  {
   "cell_type": "code",
   "execution_count": null,
   "id": "eeea1292-71f1-4557-b2a0-dfb940c65fcf",
   "metadata": {},
   "outputs": [],
   "source": []
  },
  {
   "cell_type": "code",
   "execution_count": null,
   "id": "d7d3d1dd-a5c5-4fc4-9451-50bc2c449bec",
   "metadata": {},
   "outputs": [],
   "source": []
  },
  {
   "cell_type": "markdown",
   "id": "disturbed-marketplace",
   "metadata": {},
   "source": [
    "# TOP 10 państw z największą liczbą wyzdrowień w ostatnim miesiącu"
   ]
  },
  {
   "cell_type": "code",
   "execution_count": null,
   "id": "involved-andorra",
   "metadata": {},
   "outputs": [],
   "source": [
    "# picking columns from countries_and_usa_df\n",
    "top_recovered_df = countries_and_usa_df[['Country', 'Recovered', 'Date']]"
   ]
  },
  {
   "cell_type": "code",
   "execution_count": null,
   "id": "a73c8cd8-8d0d-4645-90e6-217ead38d03c",
   "metadata": {},
   "outputs": [],
   "source": [
    "# data string slicing - reducting data to year-month-day\n",
    "top_recovered_df['Date'] = top_recovered_df['Date'].copy().astype(str).str[:10]\n",
    "# back to datatime type\n",
    "top_recovered_df['Date'] = pd.to_datetime(top_recovered_df['Date'])  \n",
    "# masking date data\n",
    "date_mask = (top_recovered_df['Date'] >= '2021-3-1') & (top_recovered_df['Date'] <= '2021-3-31')\n",
    "# re-assign to variable\n",
    "top_recovered_df = top_recovered_df.loc[date_mask]\n",
    "top_recovered_df.reset_index(drop=True, inplace=True)"
   ]
  },
  {
   "cell_type": "code",
   "execution_count": null,
   "id": "alleged-invalid",
   "metadata": {},
   "outputs": [],
   "source": [
    "# data string slicing - reducting data to year-month-day\n",
    "top_recovered_df['Date'] = top_recovered_df['Date'].astype(str).str[:10]\n",
    "# back to datatime type\n",
    "top_recovered_df['Date'] = pd.to_datetime(top_recovered_df['Date'])  \n",
    "# masking date data\n",
    "date_mask = (top_recovered_df['Date'] >= '2021-3-1') & (top_recovered_df['Date'] <= '2021-3-31')\n",
    "# re-assign to variable\n",
    "top_recovered_df = top_recovered_df.loc[date_mask]\n",
    "top_recovered_df.reset_index(drop=True, inplace=True)"
   ]
  },
  {
   "cell_type": "code",
   "execution_count": null,
   "id": "reserved-jurisdiction",
   "metadata": {},
   "outputs": [],
   "source": [
    "top_recovered_df = top_recovered_df[['Country', 'Date', 'Recovered']].groupby(['Country', 'Date']).sum()\n",
    "top_recovered_df.reset_index(inplace=True)"
   ]
  },
  {
   "cell_type": "code",
   "execution_count": null,
   "id": "affected-stephen",
   "metadata": {},
   "outputs": [],
   "source": [
    "# Recovered column copy\n",
    "top_recovered_df['Test'] = top_recovered_df['Recovered']\n",
    "# increment empty column\n",
    "top_recovered_df['Recovered_increment'] = 0\n",
    "top_recovered_df"
   ]
  },
  {
   "cell_type": "code",
   "execution_count": null,
   "id": "stretch-deployment",
   "metadata": {},
   "outputs": [],
   "source": [
    "# 1 month limit means records for 1 country from last month\n",
    "month_limit = 30\n",
    "# 5889 is last index, so there're 5890 rows -> 5890 / 190 = 31\n",
    "df_limit = 5889\n",
    "index_counter = 0\n",
    "\n",
    "\n",
    "while month_limit <= df_limit:          \n",
    "    \n",
    "    while index_counter <= month_limit and index_counter <= df_limit: \n",
    "        if index_counter == 5889: \n",
    "            break\n",
    "        else:\n",
    "            top_recovered_df['Recovered_increment'][index_counter+1] = top_recovered_df['Recovered'][index_counter+1] - top_recovered_df['Test'][index_counter]\n",
    "            index_counter += 1\n",
    "            \n",
    "    if index_counter >= month_limit:                               \n",
    "        month_limit += 31        "
   ]
  },
  {
   "cell_type": "code",
   "execution_count": null,
   "id": "a0331445-bca9-4e48-8c13-8975ffdd8cd5",
   "metadata": {},
   "outputs": [],
   "source": [
    "top_recovered_df"
   ]
  },
  {
   "cell_type": "code",
   "execution_count": null,
   "id": "forced-monitor",
   "metadata": {},
   "outputs": [],
   "source": [
    "# cleaner look to df\n",
    "top_recovered_df = top_recovered_df[['Country', 'Recovered_increment', 'Date']]\n",
    "# group by country and sum increment\n",
    "top_recovered_df = top_recovered_df.groupby(by=\"Country\").sum()"
   ]
  },
  {
   "cell_type": "code",
   "execution_count": null,
   "id": "decent-salon",
   "metadata": {},
   "outputs": [],
   "source": [
    "# sorting by increment and return first 10\n",
    "top_recovered_df = top_recovered_df.sort_values(by='Recovered_increment', ascending=False).head(10)"
   ]
  },
  {
   "cell_type": "code",
   "execution_count": null,
   "id": "circular-demographic",
   "metadata": {},
   "outputs": [],
   "source": [
    "top_recovered_df"
   ]
  },
  {
   "cell_type": "code",
   "execution_count": null,
   "id": "dramatic-ukraine",
   "metadata": {},
   "outputs": [],
   "source": [
    "plt.figure(figsize=(10 ,7))\n",
    "sns.barplot(x=top_recovered_df.index, y='Recovered_increment', data=top_recovered_df)\n",
    "#plt.yticks(range(0, int(14e6), int(2e6)))\n",
    "plt.xticks(rotation=45)\n",
    "plt.title(\"TOP 10 państw z największą liczbą wyzdrowień w ostatnim miesiącu\")\n",
    "plt.grid()\n",
    "plt.tight_layout();"
   ]
  },
  {
   "cell_type": "markdown",
   "id": "front-award",
   "metadata": {},
   "source": [
    "# TOP 10 państw z największą liczbą potwierdzonych nowych przypadków zachorowań w ostatnim miesiącu"
   ]
  },
  {
   "cell_type": "code",
   "execution_count": null,
   "id": "conscious-gregory",
   "metadata": {},
   "outputs": [],
   "source": [
    "# picking columns from countries_and_usa_df\n",
    "top_confirmed_df = countries_and_usa_df[['Country', 'Confirmed', 'Date']]"
   ]
  },
  {
   "cell_type": "code",
   "execution_count": null,
   "id": "discrete-jones",
   "metadata": {},
   "outputs": [],
   "source": [
    "# data string slicing - reducting data to year-month-day\n",
    "top_confirmed_df['Date'] = top_confirmed_df['Date'].astype(str).str[:10]\n",
    "# back to datatime type\n",
    "top_confirmed_df['Date'] = pd.to_datetime(top_confirmed_df['Date'])  \n",
    "# masking date data\n",
    "date_mask = (top_confirmed_df['Date'] >= '2021-3-1') & (top_confirmed_df['Date'] <= '2021-3-31')\n",
    "# re-assign to variable\n",
    "top_confirmed_df = top_confirmed_df.loc[date_mask]\n",
    "top_confirmed_df.reset_index(drop=True, inplace=True)"
   ]
  },
  {
   "cell_type": "code",
   "execution_count": null,
   "id": "higher-neighbor",
   "metadata": {},
   "outputs": [],
   "source": [
    "top_confirmed_df = top_confirmed_df[['Country', 'Date', 'Confirmed']].groupby(['Country', 'Date']).sum()\n",
    "top_confirmed_df.reset_index(inplace=True)"
   ]
  },
  {
   "cell_type": "code",
   "execution_count": null,
   "id": "naval-showcase",
   "metadata": {},
   "outputs": [],
   "source": [
    "# Recovered column copy\n",
    "top_confirmed_df['Test'] = top_confirmed_df['Confirmed']\n",
    "# increment empty column\n",
    "top_confirmed_df['Confirmed_increment'] = 0"
   ]
  },
  {
   "cell_type": "code",
   "execution_count": null,
   "id": "waiting-refund",
   "metadata": {},
   "outputs": [],
   "source": [
    "month_limit = 30\n",
    "df_limit = 5889\n",
    "index_counter = 0\n",
    "\n",
    "\n",
    "while month_limit <= df_limit:          \n",
    "    \n",
    "    while index_counter <= month_limit and index_counter <= df_limit: \n",
    "        if index_counter == 5889: \n",
    "            break\n",
    "        else:\n",
    "            top_confirmed_df['Confirmed_increment'][index_counter+1] = top_confirmed_df['Confirmed'][index_counter+1] - top_confirmed_df['Test'][index_counter]\n",
    "            index_counter += 1\n",
    "            #print(index_counter)                 \n",
    "\n",
    "    if index_counter >= month_limit:                               \n",
    "        month_limit += 31        "
   ]
  },
  {
   "cell_type": "code",
   "execution_count": null,
   "id": "second-aquatic",
   "metadata": {},
   "outputs": [],
   "source": [
    "# cleaner look to df\n",
    "top_confirmed_df = top_confirmed_df[['Country', 'Confirmed_increment', 'Date']]\n",
    "# group by date(month) and sum increment\n",
    "top_confirmed_df = top_confirmed_df.groupby(by=\"Country\").sum()"
   ]
  },
  {
   "cell_type": "code",
   "execution_count": null,
   "id": "green-yemen",
   "metadata": {},
   "outputs": [],
   "source": [
    "# sorting by increment and return first 10\n",
    "top_confirmed_df = top_confirmed_df.sort_values(by='Confirmed_increment', ascending=False).head(10)"
   ]
  },
  {
   "cell_type": "code",
   "execution_count": null,
   "id": "protecting-handling",
   "metadata": {},
   "outputs": [],
   "source": [
    "top_confirmed_df"
   ]
  },
  {
   "cell_type": "code",
   "execution_count": null,
   "id": "accepted-oxygen",
   "metadata": {},
   "outputs": [],
   "source": [
    "plt.figure(figsize=(10 ,7))\n",
    "sns.barplot(x=top_confirmed_df.index, y='Confirmed_increment', data=top_confirmed_df)\n",
    "#plt.yticks(range(0, int(14e6), int(2e6)))\n",
    "plt.xticks(rotation=45)\n",
    "plt.title(\"TOP 10 państw z największą liczbą potwierdzonych nowych przypadków zachorowań w ostatnim miesiącu\")\n",
    "plt.grid()\n",
    "plt.tight_layout()"
   ]
  },
  {
   "cell_type": "markdown",
   "id": "starting-style",
   "metadata": {},
   "source": [
    "# TOP 10 państw z największą liczbą przypadków śmiertelnychw ostatnim miesiącu"
   ]
  },
  {
   "cell_type": "code",
   "execution_count": null,
   "id": "intelligent-strength",
   "metadata": {},
   "outputs": [],
   "source": [
    "# picking columns from countries_and_usa_df\n",
    "top_deaths_df = countries_and_usa_df[['Country', 'Deaths', 'Date']]"
   ]
  },
  {
   "cell_type": "code",
   "execution_count": null,
   "id": "promotional-stewart",
   "metadata": {},
   "outputs": [],
   "source": [
    "# data string slicing - reducting data to year-month-day\n",
    "top_deaths_df['Date'] = top_deaths_df['Date'].astype(str).str[:10]\n",
    "# back to datatime type\n",
    "top_deaths_df['Date'] = pd.to_datetime(top_deaths_df['Date'])  \n",
    "# masking date data\n",
    "date_mask = (top_deaths_df['Date'] >= '2021-3-1') & (top_deaths_df['Date'] <= '2021-3-31')\n",
    "# re-assign to variable\n",
    "top_deaths_df = top_deaths_df.loc[date_mask]\n",
    "top_deaths_df.reset_index(drop=True, inplace=True)"
   ]
  },
  {
   "cell_type": "code",
   "execution_count": null,
   "id": "earned-switzerland",
   "metadata": {},
   "outputs": [],
   "source": [
    "top_deaths_df = top_deaths_df[['Country', 'Date', 'Deaths']].groupby(['Country', 'Date']).sum()\n",
    "top_deaths_df.reset_index(inplace=True)"
   ]
  },
  {
   "cell_type": "code",
   "execution_count": null,
   "id": "gentle-terry",
   "metadata": {},
   "outputs": [],
   "source": [
    "# Recovered column copy\n",
    "top_deaths_df['Test'] = top_deaths_df['Deaths']\n",
    "# increment empty column\n",
    "top_deaths_df['Deaths_increment'] = 0"
   ]
  },
  {
   "cell_type": "code",
   "execution_count": null,
   "id": "indie-florist",
   "metadata": {},
   "outputs": [],
   "source": [
    "month_limit = 30\n",
    "df_limit = 5889\n",
    "index_counter = 0\n",
    "\n",
    "\n",
    "while month_limit <= df_limit:          \n",
    "    \n",
    "    while index_counter <= month_limit and index_counter <= df_limit: \n",
    "        if index_counter == 5889: \n",
    "            break\n",
    "        else:\n",
    "            top_deaths_df['Deaths_increment'][index_counter+1] = top_deaths_df['Deaths'][index_counter+1] - top_deaths_df['Test'][index_counter]\n",
    "            index_counter += 1\n",
    "            #print(index_counter)                 \n",
    "\n",
    "    if index_counter >= month_limit:                               \n",
    "        month_limit += 31        "
   ]
  },
  {
   "cell_type": "code",
   "execution_count": null,
   "id": "confident-marks",
   "metadata": {},
   "outputs": [],
   "source": [
    "# cleaner look to df\n",
    "top_deaths_df = top_deaths_df[['Country', 'Deaths_increment', 'Date']]\n",
    "# group by date(month) and sum increment\n",
    "top_deaths_df = top_deaths_df.groupby(by=\"Country\").sum()"
   ]
  },
  {
   "cell_type": "code",
   "execution_count": null,
   "id": "unique-admission",
   "metadata": {},
   "outputs": [],
   "source": [
    "# sorting by increment and return first 10\n",
    "top_deaths_df = top_deaths_df.sort_values(by='Deaths_increment', ascending=False).head(10)"
   ]
  },
  {
   "cell_type": "code",
   "execution_count": null,
   "id": "interim-korean",
   "metadata": {},
   "outputs": [],
   "source": [
    "top_deaths_df"
   ]
  },
  {
   "cell_type": "code",
   "execution_count": null,
   "id": "exotic-storm",
   "metadata": {},
   "outputs": [],
   "source": [
    "plt.figure(figsize=(10 ,7))\n",
    "sns.barplot(x=top_deaths_df.index, y='Deaths_increment', data=top_deaths_df)\n",
    "#plt.yticks(range(0, int(14e6), int(2e6)))\n",
    "plt.xticks(rotation=45)\n",
    "plt.title(\"# TOP 10 państw z największą liczbą przypadków śmiertelnychw ostatnim miesiącu\")\n",
    "plt.grid()\n",
    "plt.tight_layout()"
   ]
  },
  {
   "cell_type": "markdown",
   "id": "incorrect-color",
   "metadata": {},
   "source": [
    "# Statystyki z wyzdrowień, nowych przypadków zachorowań oraz przypadków śmiertelnych dla Polski za ostatni miesiąc"
   ]
  },
  {
   "cell_type": "code",
   "execution_count": null,
   "id": "ranking-lying",
   "metadata": {},
   "outputs": [],
   "source": [
    "# reduce countries_df to Poland records\n",
    "poland_df = countries_df.loc[countries_df[\"Country\"]=='Poland']\n",
    "poland_df.reset_index(drop=True, inplace=True)"
   ]
  },
  {
   "cell_type": "code",
   "execution_count": null,
   "id": "coastal-gates",
   "metadata": {},
   "outputs": [],
   "source": [
    "# data string slicing - reducting data to year-month-day\n",
    "poland_df['Date'] = poland_df['Date'].astype(str).str[:10]\n",
    "# back to datatime type\n",
    "poland_df['Date'] = pd.to_datetime(poland_df['Date'])  \n",
    "# masking date data\n",
    "date_mask = (poland_df['Date'] >= '2021-3-1') & (poland_df['Date'] <= '2021-3-31')\n",
    "# re-assign to variable\n",
    "poland_df = poland_df.loc[date_mask]\n",
    "poland_df.reset_index(drop=True, inplace=True)"
   ]
  },
  {
   "cell_type": "code",
   "execution_count": null,
   "id": "modular-differential",
   "metadata": {},
   "outputs": [],
   "source": [
    "# managing outliner in 'Active' column\n",
    "idx = poland_df.index[poland_df['Active'] > 1e6].tolist()\n",
    "poland_df.iloc[idx[0], 4] = poland_df.iloc[idx[0], 1] - poland_df.iloc[idx[0], 2] - poland_df.iloc[idx[0], 3]"
   ]
  },
  {
   "cell_type": "code",
   "execution_count": null,
   "id": "medical-count",
   "metadata": {},
   "outputs": [],
   "source": [
    "poland_df"
   ]
  },
  {
   "cell_type": "code",
   "execution_count": null,
   "id": "visible-delivery",
   "metadata": {},
   "outputs": [],
   "source": [
    "fig, axes = plt.subplots(4, 1, figsize=(12, 10), sharex=True)\n",
    "\n",
    "plt.suptitle(\"Statystyki dla Polski za ostatni miesiąc\", fontsize=14)\n",
    "\n",
    "sns.lineplot(ax=axes[0], data=poland_df, x='Date', y='Confirmed', color='orange', linewidth=2)\n",
    "axes[0].set_title(\"Confirmed\")\n",
    "axes[0].set_yticks(range(int(16e5), int(25e5), int(1e5)))\n",
    "axes[0].grid(True)\n",
    "\n",
    "sns.lineplot(ax=axes[1], data=poland_df, x='Date', y='Deaths', color='red', linewidth=2)\n",
    "axes[1].set_title(\"Deaths\")\n",
    "axes[1].set_yticks(range(42000, 56000, 2000))\n",
    "axes[1].grid(True)\n",
    "\n",
    "sns.lineplot(ax=axes[2], data=poland_df, x='Date', y='Recovered', color='green', linewidth=2)\n",
    "axes[2].set_title(\"Recovered\")\n",
    "axes[2].set_yticks(range(int(14e5), int(20e5), int(1e5)))\n",
    "axes[2].grid(True)\n",
    "\n",
    "sns.lineplot(ax=axes[3], data=poland_df, x='Date', y='Active', color='blue', linewidth=2)\n",
    "axes[3].tick_params(axis='x', rotation=90)\n",
    "axes[3].set_title(\"Active\")\n",
    "axes[3].set_yticks(range(200000, 480000, 40000))\n",
    "axes[3].set_xticks(poland_df['Date'])\n",
    "axes[3].grid(True)\n",
    "\n",
    "#plt.tight_layout();"
   ]
  },
  {
   "cell_type": "markdown",
   "id": "specified-samba",
   "metadata": {},
   "source": [
    "# Miesięczny przyrost wyzdrowień w ostatnim roku"
   ]
  },
  {
   "cell_type": "code",
   "execution_count": null,
   "id": "stopped-visiting",
   "metadata": {},
   "outputs": [],
   "source": [
    "# picking columns from countries_and_usa_df\n",
    "top_recovered_df = countries_and_usa_df[['Country', 'Recovered', 'Date']]"
   ]
  },
  {
   "cell_type": "code",
   "execution_count": null,
   "id": "compressed-python",
   "metadata": {},
   "outputs": [],
   "source": [
    "# data string slicing - reducting data to year-month-day\n",
    "top_recovered_df['Date'] = top_recovered_df['Date'].astype(str).str[:7]"
   ]
  },
  {
   "cell_type": "code",
   "execution_count": null,
   "id": "found-vietnamese",
   "metadata": {},
   "outputs": [],
   "source": [
    "top_recovered_df = top_recovered_df[['Country', 'Date', 'Recovered']].groupby(['Country', 'Date']).sum()\n",
    "top_recovered_df.reset_index(inplace=True)"
   ]
  },
  {
   "cell_type": "code",
   "execution_count": null,
   "id": "loaded-infection",
   "metadata": {},
   "outputs": [],
   "source": [
    "# Recovered column copy\n",
    "top_recovered_df['Test'] = top_recovered_df['Recovered']\n",
    "# increment empty column\n",
    "top_recovered_df['Recovered_increment'] = 0"
   ]
  },
  {
   "cell_type": "code",
   "execution_count": null,
   "id": "sonic-merchant",
   "metadata": {},
   "outputs": [],
   "source": [
    "month_limit = 30\n",
    "df_limit = 2279\n",
    "index_counter = 0\n",
    "\n",
    "\n",
    "while month_limit <= df_limit:          \n",
    "    \n",
    "    while index_counter <= month_limit and index_counter <= df_limit: \n",
    "        if index_counter == 2279: \n",
    "            break\n",
    "        else:\n",
    "            top_recovered_df['Recovered_increment'][index_counter+1] = top_recovered_df['Recovered'][index_counter+1] - top_recovered_df['Test'][index_counter]\n",
    "            index_counter += 1\n",
    "            #print(index_counter)                 \n",
    "\n",
    "    if index_counter >= month_limit:                               \n",
    "        month_limit += 31        "
   ]
  },
  {
   "cell_type": "code",
   "execution_count": null,
   "id": "daily-health",
   "metadata": {},
   "outputs": [],
   "source": [
    "top_recovered_df.loc[top_recovered_df['Recovered_increment'] < 0, 'Recovered_increment'] = 0"
   ]
  },
  {
   "cell_type": "code",
   "execution_count": null,
   "id": "korean-strategy",
   "metadata": {},
   "outputs": [],
   "source": [
    "# cleaner look to df\n",
    "top_recovered_df = top_recovered_df[['Country', 'Recovered', 'Recovered_increment', 'Date']]\n",
    "# group by date(month) and sum increment\n",
    "top_recovered_df = top_recovered_df.groupby(by=\"Date\").sum()"
   ]
  },
  {
   "cell_type": "code",
   "execution_count": null,
   "id": "driving-yield",
   "metadata": {},
   "outputs": [],
   "source": [
    "# sorting by increment and return first 10\n",
    "top_recovered_df = top_recovered_df.sort_values(by='Date', ascending=True)"
   ]
  },
  {
   "cell_type": "code",
   "execution_count": null,
   "id": "incoming-borough",
   "metadata": {},
   "outputs": [],
   "source": [
    "top_recovered_df"
   ]
  },
  {
   "cell_type": "code",
   "execution_count": null,
   "id": "listed-enough",
   "metadata": {},
   "outputs": [],
   "source": [
    "fig, axes = plt.subplots(2, 1, figsize=(10, 7), sharex=True)\n",
    "\n",
    "plt.suptitle(\"Miesięczny przyrost wyzdrowień w ostatnim roku\", fontsize=14)\n",
    "\n",
    "sns.lineplot(ax=axes[0], data=top_recovered_df, x='Date', y='Recovered_increment', color='red', linewidth=2)\n",
    "axes[0].set_title(\"Increment\")\n",
    "axes[0].grid(True)\n",
    "\n",
    "sns.lineplot(ax=axes[1], data=top_recovered_df, x='Date', y='Recovered', color='green', linewidth=2)\n",
    "axes[1].set_title(\"Recovered\")\n",
    "axes[1].tick_params(axis='x', rotation=45)\n",
    "axes[1].grid(True)\n",
    "\n",
    "#plt.tight_layout()"
   ]
  },
  {
   "cell_type": "markdown",
   "id": "84c74573-81ad-4f87-a303-beb975d76b8b",
   "metadata": {},
   "source": [
    "# # shell command convert .ipynb to .py\n",
    "# !jupyter nbconvert --to script 2021_Rozwiązanie_BAA_Intern_Dawid_Jaskulski.ipynb"
   ]
  }
 ],
 "metadata": {
  "kernelspec": {
   "display_name": "Python 3",
   "language": "python",
   "name": "python3"
  },
  "language_info": {
   "codemirror_mode": {
    "name": "ipython",
    "version": 3
   },
   "file_extension": ".py",
   "mimetype": "text/x-python",
   "name": "python",
   "nbconvert_exporter": "python",
   "pygments_lexer": "ipython3",
   "version": "3.8.5"
  },
  "toc-autonumbering": false,
  "toc-showcode": false,
  "toc-showmarkdowntxt": false,
  "toc-showtags": false
 },
 "nbformat": 4,
 "nbformat_minor": 5
}
