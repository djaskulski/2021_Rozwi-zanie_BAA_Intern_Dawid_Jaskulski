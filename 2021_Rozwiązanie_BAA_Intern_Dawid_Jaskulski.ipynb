{
 "cells": [
  {
   "cell_type": "code",
   "execution_count": 2,
   "id": "hawaiian-shareware",
   "metadata": {},
   "outputs": [],
   "source": [
    "import pandas as pd\n",
    "import seaborn as sns\n",
    "import matplotlib.pyplot as plt\n",
    "import datetime\n",
    "import json\n",
    "import time\n",
    "import requests"
   ]
  },
  {
   "cell_type": "code",
   "execution_count": 3,
   "id": "731ff911-4441-4a85-be7d-797ca1b3b4ec",
   "metadata": {},
   "outputs": [],
   "source": [
    "def main():\n",
    "    \n",
    "    decision_1 = input(\"Do you want to do API requests? (requires ~20 minutes)? y/n: \")\n",
    "    \n",
    "    if decision_1 == \"y\":\n",
    "        \n",
    "        url = \"https://api.covid19api.com\"\n",
    "        \n",
    "        # connection checking with base\n",
    "        check_connection(base=url)\n",
    "        # returns: print: None\n",
    "        \n",
    "        # get list of countries\n",
    "        countries_list_var = request_countries(base=url)\n",
    "        # returns: countries_list: list\n",
    "        \n",
    "        # print list of countries and count them\n",
    "        print_countries(c_list=countries_list_var)\n",
    "        # returns: print: None\n",
    "\n",
    "        # gather data for available countries (entire year)\n",
    "        countries_data_var = gather_countries(c_list=countries_list_var, base=url)\n",
    "        # returns: [countries_with_empty_response: list, countries_with_response: list, countries_df: DataFrame]\n",
    "\n",
    "        empty_response_list = countries_data_var[0]\n",
    "        non_empty_response_list = countries_data_var[1]\n",
    "        world = countries_data_var[2]\n",
    "\n",
    "        # makes date periods for day by day requests\n",
    "        dates_list_1 = make_period(from_data=[2020, 4, 1], to_date=[2021, 3, 30])\n",
    "        dates_list_2 = make_period(from_data=[2020, 4, 2], to_date=[2021, 3, 31])\n",
    "        # returns: dates_list: list\n",
    "\n",
    "        # gather data for USA (entire year)\n",
    "        united_states = gather_day_by_day(periods_1=dates_list_1, periods_2=dates_list_2, base=url)\n",
    "        # returns: usa_data_list: DataFrame\n",
    "\n",
    "        # update and print response list for countries\n",
    "        update_to_non_empty_response(non_empty=non_empty_response_list, \n",
    "                                     empty=empty_response_list, \n",
    "                                     item=\"united-states\")\n",
    "        # returns [non_empty: list, empty: list]\n",
    "\n",
    "        # joins world and usa data (saves it to /data)\n",
    "        join_countries(df1=world, df2=united_states)\n",
    "        # returns: countries_and_usa_df: DataFrame\n",
    "        \n",
    "    elif decision_1 == \"n\":\n",
    "        try:\n",
    "            # loads csv file from data folder\n",
    "            skip_api(path=\"data/world_and_usa_df.csv\")\n",
    "            # returns: data: DataFrame\n",
    "        except Exception as e:\n",
    "            print(\"Error has occurred: \", e, \"\\n\")\n",
    "        \n",
    "    else:\n",
    "        print(\"Nothing to do here, go home\")\n",
    "    "
   ]
  },
  {
   "cell_type": "code",
   "execution_count": 4,
   "id": "00d4261f-f6af-4527-baf0-b42976864786",
   "metadata": {},
   "outputs": [],
   "source": [
    "def check_connection(base: str) -> None:\n",
    "    try:\n",
    "        response = requests.get(base)\n",
    "        print(\"Connection is fine!\\n\")\n",
    "    except Exception as e:\n",
    "        print(\"Error has occurred: \", e, \"\\n\")"
   ]
  },
  {
   "cell_type": "code",
   "execution_count": 5,
   "id": "answering-custody",
   "metadata": {},
   "outputs": [],
   "source": [
    "def request_countries(base: str, show_response: bool = False) -> list:\n",
    "    \"\"\" \"\"\"\n",
    "    \n",
    "    response = requests.get(base + \"/countries\")\n",
    "    \n",
    "    if show_response:\n",
    "        print(response)\n",
    "    \n",
    "    countries_json = response.json()\n",
    "    countries_list = []\n",
    "\n",
    "    for item in countries_json:\n",
    "        my_list = []\n",
    "        my_list = item.get('Slug')\n",
    "        countries_list.append(my_list)\n",
    "    \n",
    "    return countries_list"
   ]
  },
  {
   "cell_type": "code",
   "execution_count": 6,
   "id": "f6baf958-0b28-434d-ab04-05ca20a84308",
   "metadata": {},
   "outputs": [],
   "source": [
    "def print_countries(c_list: list) -> None:\n",
    "    \"\"\" \"\"\"\n",
    "    \n",
    "    data = c_list\n",
    "    print(\"Number of all countries: \", len(data))\n",
    "    print(*data, \"\\n\", sep = \", \")"
   ]
  },
  {
   "cell_type": "code",
   "execution_count": 7,
   "id": "interesting-lyric",
   "metadata": {},
   "outputs": [],
   "source": [
    "def gather_countries(c_list: list, base: str, save: bool = False) -> list:\n",
    "    \"\"\"time: ~ 9-15 min\"\"\"\n",
    "    \n",
    "    data = c_list\n",
    "    countries_with_empty_response = []\n",
    "    countries_with_response = []\n",
    "    countries_data_list = []\n",
    "    \n",
    "    for country in data:\n",
    "        response = requests.get(base + '/country/' + country + '?from=2020-04-01T00:00:00Z&to=2021-03-31T00:00:00Z')\n",
    "        country_response = response.json()\n",
    "\n",
    "        if len(country_response) <= 2:\n",
    "            countries_with_empty_response.append(country)\n",
    "            #continue\n",
    "        else:\n",
    "            countries_with_response.append(country)\n",
    "\n",
    "            for item in country_response:\n",
    "                my_dict = {}\n",
    "                my_dict['Country'] = item.get('Country')\n",
    "                my_dict['Confirmed'] = item.get('Confirmed')\n",
    "                my_dict['Deaths'] = item.get('Deaths')\n",
    "                my_dict['Recovered'] = item.get('Recovered')\n",
    "                my_dict['Active'] = item.get('Active')\n",
    "                my_dict['Date'] = item.get('Date')\n",
    "\n",
    "                countries_data_list.append(my_dict)\n",
    "        time.sleep(1)\n",
    "    \n",
    "    countries_data_json = json.dumps(countries_data_list)\n",
    "    countries_df = pd.read_json(countries_data_json)\n",
    "    \n",
    "    if save:\n",
    "        countries_df.to_csv('data/countries_df.csv', index=False)\n",
    "    \n",
    "    return [countries_with_empty_response, countries_with_response, countries_df]"
   ]
  },
  {
   "cell_type": "code",
   "execution_count": 8,
   "id": "numeric-retail",
   "metadata": {},
   "outputs": [],
   "source": [
    "def make_period(from_data: list, to_date: list) -> list:\n",
    "    \"\"\" \"\"\"\n",
    "    \n",
    "    start_date = datetime.date(from_data[0], from_data[1], from_data[2])\n",
    "    end_date = datetime.date(to_date[0], to_date[1], to_date[2])\n",
    "    delta = datetime.timedelta(days=1)\n",
    "    \n",
    "    dates_list = []\n",
    "\n",
    "    while start_date <= end_date:\n",
    "        dates_list.append(start_date)\n",
    "        start_date += delta\n",
    "\n",
    "    return dates_list"
   ]
  },
  {
   "cell_type": "code",
   "execution_count": 9,
   "id": "drawn-questionnaire",
   "metadata": {},
   "outputs": [],
   "source": [
    "def gather_day_by_day(periods_1: list, periods_2: list, base: str, save: bool = False) -> list:\n",
    "    \"\"\"time: ~ 27-30 min\"\"\"\n",
    "    \n",
    "    usa_data_list = []\n",
    "    \n",
    "    for from_date, to_date in zip(periods_1, periods_2):\n",
    "        response = requests.get(base + '/country/united-states' + f'?from={from_date}T00:00:00Z&to={to_date}T00:00:00Z')\n",
    "        usa_data_json = response.json()\n",
    "        \n",
    "        for item in usa_data_json:\n",
    "            my_dict = {}\n",
    "            my_dict['Country'] = item.get('Country')\n",
    "            my_dict['Confirmed'] = item.get('Confirmed')\n",
    "            my_dict['Deaths'] = item.get('Deaths')\n",
    "            my_dict['Recovered'] = item.get('Recovered')\n",
    "            my_dict['Active'] = item.get('Active')\n",
    "            my_dict['Date'] = item.get('Date')\n",
    "\n",
    "            usa_data_list.append(my_dict)\n",
    "        time.sleep(1)\n",
    "    \n",
    "    usa_data = json.dumps(usa_data_list)\n",
    "    country_usa_df = pd.read_json(usa_data)\n",
    "\n",
    "    if save:\n",
    "        country_usa_df.to_csv('data/country_usa_df.csv', index=False)\n",
    "    \n",
    "    return country_usa_df"
   ]
  },
  {
   "cell_type": "code",
   "execution_count": 10,
   "id": "exotic-little",
   "metadata": {},
   "outputs": [],
   "source": [
    "def update_to_non_empty_response(non_empty: list, empty: list, item: str = \"united-states\") -> list:\n",
    "    \"\"\" \"\"\"\n",
    "    \n",
    "    non_empty.append(item)\n",
    "    print(\"Number of countries with data: \", len(non_empty))\n",
    "    print(*non_empty, \"\\n\", sep = \", \") \n",
    "\n",
    "    empty.remove(item)\n",
    "    print(\"Number of countries without data: \", len(empty))\n",
    "    print(*empty, \"\\n\", sep = \", \")\n",
    "    return [non_empty, empty]"
   ]
  },
  {
   "cell_type": "code",
   "execution_count": 11,
   "id": "e9d5abae-b457-49ef-b244-38193b3cc24f",
   "metadata": {},
   "outputs": [],
   "source": [
    "def join_countries(df1: pd.DataFrame, df2: pd.DataFrame) -> pd.DataFrame:   \n",
    "    \"\"\" \"\"\"\n",
    "    \n",
    "    countries_and_usa_df = df1.append(df2)\n",
    "    countries_and_usa_df.to_csv('data/world_and_usa_df.csv', index=False)\n",
    "    print(\"Finished dataframe:\\n\", countries_and_usa_df)\n",
    "    return countries_and_usa_df"
   ]
  },
  {
   "cell_type": "code",
   "execution_count": 12,
   "id": "fa7a3d49-994b-49e9-8edf-6301afc840f8",
   "metadata": {},
   "outputs": [],
   "source": [
    "def skip_api(path : str = \"data/world_and_usa_df.csv\") -> pd.DataFrame:\n",
    "    \"\"\"save 20 minutes of your life, skip api, load csv\"\"\"\n",
    "    \n",
    "    data = pd.read_csv(\"data/world_and_usa_df.csv\")\n",
    "    print(\" *magic* Data successfully loaded! *magic* \")\n",
    "    return data"
   ]
  },
  {
   "cell_type": "code",
   "execution_count": 16,
   "id": "603db326-7d33-4c8c-a476-7378906ac13c",
   "metadata": {},
   "outputs": [
    {
     "name": "stdin",
     "output_type": "stream",
     "text": [
      "Do you want to do API requests? (requires ~20 minutes)? y/n:  y\n"
     ]
    },
    {
     "name": "stdout",
     "output_type": "stream",
     "text": [
      "Connection is fine!\n",
      "\n",
      "Number of all countries:  248\n",
      "switzerland, tuvalu, solomon-islands, us-minor-outlying-islands, fiji, guatemala, norfolk-island, bulgaria, equatorial-guinea, jordan, japan, korea-south, liberia, martinique, mauritania, andorra, bahamas, gambia, oman, zambia, israel, nepal, sierra-leone, western-sahara, comoros, ghana, hong-kong-sar-china, hungary, new-zealand, united-arab-emirates, barbados, germany, congo-brazzaville, estonia, french-southern-territories, grenada, luxembourg, afghanistan, austria, china, monaco, rwanda, virgin-islands, peru, mali, moldova, slovenia, turkmenistan, brunei, falkland-islands-malvinas, lebanon, guadeloupe, guam, latvia, uzbekistan, bangladesh, holy-see-vatican-city-state, tanzania, macao-sar-china, marshall-islands, saint-pierre-and-miquelon, saint-helena, sao-tome-and-principe, suriname, croatia, iran, niue, guernsey, mexico, burkina-faso, senegal, costa-rica, niger, uganda, serbia, cameroon, kiribati, netherlands, algeria, argentina, cocos-keeling-islands, nicaragua, turks-and-caicos-islands, nauru, nigeria, tunisia, cook-islands, madagascar, cayman-islands, cote-divoire, malawi, mozambique, namibia, antarctica, brazil, palestine, morocco, saint-martin-french-part, samoa, maldives, lithuania, malta, romania, réunion, spain, korea-north, kyrgyzstan, swaziland, trinidad-and-tobago, belarus, el-salvador, ukraine, vanuatu, albania, benin, kosovo, chad, cyprus, turkey, lesotho, seychelles, slovakia, cambodia, mongolia, wallis-and-futuna-islands, antigua-and-barbuda, uruguay, bermuda, france, san-marino, sweden, iraq, papua-new-guinea, pitcairn, saint-vincent-and-the-grenadines, cuba, guinea-bissau, netherlands-antilles, faroe-islands, myanmar, chile, south-georgia-and-the-south-sandwich-islands, tonga, venezuela, botswana, kazakhstan, micronesia, palau, portugal, singapore, bahrain, colombia, liechtenstein, bolivia, french-guiana, zimbabwe, british-virgin-islands, northern-mariana-islands, tajikistan, lao-pdr, kuwait, libya, taiwan, congo-kinshasa, isle-of-man, jamaica, south-africa, ala-aland-islands, bosnia-and-herzegovina, british-indian-ocean-territory, paraguay, ireland, new-caledonia, saint-lucia, azerbaijan, australia, guinea, kenya, philippines, aruba, denmark, sri-lanka, macedonia, montenegro, eritrea, sudan, cape-verde, iceland, mauritius, djibouti, ethiopia, georgia, yemen, armenia, czech-republic, puerto-rico, ecuador, greece, saint-barthélemy, timor-leste, vietnam, egypt, french-polynesia, heard-and-mcdonald-islands, jersey, togo, belgium, bhutan, gibraltar, italy, malaysia, haiti, russia, saint-kitts-and-nevis, syria, christmas-island, pakistan, svalbard-and-jan-mayen-islands, united-states, canada, saudi-arabia, south-sudan, dominica, finland, mayotte, central-african-republic, india, gabon, guyana, dominican-republic, indonesia, somalia, american-samoa, angola, anguilla, greenland, panama, burundi, norway, thailand, qatar, tokelau, belize, montserrat, poland, united-kingdom, bouvet-island, honduras, \n",
      "\n",
      "Number of countries with data:  190\n",
      "switzerland, solomon-islands, fiji, guatemala, bulgaria, equatorial-guinea, jordan, japan, korea-south, liberia, mauritania, andorra, bahamas, gambia, oman, zambia, israel, nepal, sierra-leone, comoros, ghana, hungary, new-zealand, united-arab-emirates, barbados, germany, congo-brazzaville, estonia, grenada, luxembourg, afghanistan, austria, china, monaco, rwanda, peru, mali, moldova, slovenia, brunei, lebanon, latvia, uzbekistan, bangladesh, holy-see-vatican-city-state, tanzania, marshall-islands, sao-tome-and-principe, suriname, croatia, iran, mexico, burkina-faso, senegal, costa-rica, niger, uganda, serbia, cameroon, netherlands, algeria, argentina, nicaragua, nigeria, tunisia, madagascar, cote-divoire, malawi, mozambique, namibia, brazil, palestine, morocco, samoa, maldives, lithuania, malta, romania, spain, kyrgyzstan, swaziland, trinidad-and-tobago, belarus, el-salvador, ukraine, vanuatu, albania, benin, kosovo, chad, cyprus, turkey, lesotho, seychelles, slovakia, cambodia, mongolia, antigua-and-barbuda, uruguay, france, san-marino, sweden, iraq, papua-new-guinea, saint-vincent-and-the-grenadines, cuba, guinea-bissau, myanmar, chile, venezuela, botswana, kazakhstan, micronesia, portugal, singapore, bahrain, colombia, liechtenstein, bolivia, zimbabwe, tajikistan, lao-pdr, kuwait, libya, taiwan, congo-kinshasa, jamaica, south-africa, bosnia-and-herzegovina, paraguay, ireland, saint-lucia, azerbaijan, australia, guinea, kenya, philippines, denmark, sri-lanka, macedonia, montenegro, eritrea, sudan, cape-verde, iceland, mauritius, djibouti, ethiopia, georgia, yemen, armenia, czech-republic, ecuador, greece, timor-leste, vietnam, egypt, togo, belgium, bhutan, italy, malaysia, haiti, russia, saint-kitts-and-nevis, syria, pakistan, canada, saudi-arabia, south-sudan, dominica, finland, central-african-republic, india, gabon, guyana, dominican-republic, indonesia, somalia, angola, panama, burundi, norway, thailand, qatar, belize, poland, united-kingdom, honduras, united-states, \n",
      "\n",
      "Number of countries without data:  58\n",
      "tuvalu, us-minor-outlying-islands, norfolk-island, martinique, western-sahara, hong-kong-sar-china, french-southern-territories, virgin-islands, turkmenistan, falkland-islands-malvinas, guadeloupe, guam, macao-sar-china, saint-pierre-and-miquelon, saint-helena, niue, guernsey, kiribati, cocos-keeling-islands, turks-and-caicos-islands, nauru, cook-islands, cayman-islands, antarctica, saint-martin-french-part, réunion, korea-north, wallis-and-futuna-islands, bermuda, pitcairn, netherlands-antilles, faroe-islands, south-georgia-and-the-south-sandwich-islands, tonga, palau, french-guiana, british-virgin-islands, northern-mariana-islands, isle-of-man, ala-aland-islands, british-indian-ocean-territory, new-caledonia, aruba, puerto-rico, saint-barthélemy, french-polynesia, heard-and-mcdonald-islands, jersey, gibraltar, christmas-island, svalbard-and-jan-mayen-islands, mayotte, american-samoa, anguilla, greenland, tokelau, montserrat, bouvet-island, \n",
      "\n",
      "Finished dataframe:\n",
      "                          Country  Confirmed  Deaths  Recovered  Active  \\\n",
      "0                    Switzerland      17768     488       2967   14313   \n",
      "1                    Switzerland      18827     536       4013   14278   \n",
      "2                    Switzerland      19606     591       4846   14169   \n",
      "3                    Switzerland      20505     666       6415   13424   \n",
      "4                    Switzerland      21100     715       6415   13970   \n",
      "...                          ...        ...     ...        ...     ...   \n",
      "864594  United States of America        684      11          0     673   \n",
      "864595  United States of America        245       9          0     236   \n",
      "864596  United States of America       1205      42          0    1163   \n",
      "864597  United States of America        390      10          0     380   \n",
      "864598  United States of America        910      15          0     895   \n",
      "\n",
      "                            Date  \n",
      "0      2020-04-01 00:00:00+00:00  \n",
      "1      2020-04-02 00:00:00+00:00  \n",
      "2      2020-04-03 00:00:00+00:00  \n",
      "3      2020-04-04 00:00:00+00:00  \n",
      "4      2020-04-05 00:00:00+00:00  \n",
      "...                          ...  \n",
      "864594 2021-03-31 00:00:00+00:00  \n",
      "864595 2021-03-31 00:00:00+00:00  \n",
      "864596 2021-03-31 00:00:00+00:00  \n",
      "864597 2021-03-31 00:00:00+00:00  \n",
      "864598 2021-03-31 00:00:00+00:00  \n",
      "\n",
      "[958729 rows x 6 columns]\n"
     ]
    }
   ],
   "source": [
    "main()"
   ]
  },
  {
   "cell_type": "code",
   "execution_count": 163,
   "id": "e89cdd5a-9b5d-4ea3-99ab-d0518503845e",
   "metadata": {},
   "outputs": [],
   "source": [
    "def top10():\n",
    "    \"\"\" \"\"\"\n",
    "    \n",
    "    \n",
    "    def data_preparation():\n",
    "        pass\n",
    "    \n",
    "    \n",
    "    def data_visualization():\n",
    "        pass\n",
    "    \n",
    "    \n",
    "    pass"
   ]
  },
  {
   "cell_type": "code",
   "execution_count": null,
   "id": "f3a7260d-854f-44c4-ad21-ea60219ab35d",
   "metadata": {},
   "outputs": [],
   "source": []
  },
  {
   "cell_type": "code",
   "execution_count": null,
   "id": "involved-andorra",
   "metadata": {},
   "outputs": [],
   "source": [
    "# picking columns from countries_and_usa_df\n",
    "top_recovered_df = countries_and_usa_df[['Country', 'Recovered', 'Date']]"
   ]
  },
  {
   "cell_type": "code",
   "execution_count": null,
   "id": "a73c8cd8-8d0d-4645-90e6-217ead38d03c",
   "metadata": {},
   "outputs": [],
   "source": [
    "# data string slicing - reducting data to year-month-day\n",
    "top_recovered_df['Date'] = top_recovered_df['Date'].copy().astype(str).str[:10]\n",
    "# back to datatime type\n",
    "top_recovered_df['Date'] = pd.to_datetime(top_recovered_df['Date'])  \n",
    "# masking date data\n",
    "date_mask = (top_recovered_df['Date'] >= '2021-3-1') & (top_recovered_df['Date'] <= '2021-3-31')\n",
    "# re-assign to variable\n",
    "top_recovered_df = top_recovered_df.loc[date_mask]\n",
    "top_recovered_df.reset_index(drop=True, inplace=True)"
   ]
  },
  {
   "cell_type": "code",
   "execution_count": null,
   "id": "alleged-invalid",
   "metadata": {},
   "outputs": [],
   "source": [
    "# data string slicing - reducting data to year-month-day\n",
    "top_recovered_df['Date'] = top_recovered_df['Date'].astype(str).str[:10]\n",
    "# back to datatime type\n",
    "top_recovered_df['Date'] = pd.to_datetime(top_recovered_df['Date'])  \n",
    "# masking date data\n",
    "date_mask = (top_recovered_df['Date'] >= '2021-3-1') & (top_recovered_df['Date'] <= '2021-3-31')\n",
    "# re-assign to variable\n",
    "top_recovered_df = top_recovered_df.loc[date_mask]\n",
    "top_recovered_df.reset_index(drop=True, inplace=True)"
   ]
  },
  {
   "cell_type": "code",
   "execution_count": null,
   "id": "reserved-jurisdiction",
   "metadata": {},
   "outputs": [],
   "source": [
    "top_recovered_df = top_recovered_df[['Country', 'Date', 'Recovered']].groupby(['Country', 'Date']).sum()\n",
    "top_recovered_df.reset_index(inplace=True)"
   ]
  },
  {
   "cell_type": "code",
   "execution_count": null,
   "id": "affected-stephen",
   "metadata": {},
   "outputs": [],
   "source": [
    "# Recovered column copy\n",
    "top_recovered_df['Test'] = top_recovered_df['Recovered']\n",
    "# increment empty column\n",
    "top_recovered_df['Recovered_increment'] = 0\n",
    "top_recovered_df"
   ]
  },
  {
   "cell_type": "code",
   "execution_count": null,
   "id": "stretch-deployment",
   "metadata": {},
   "outputs": [],
   "source": [
    "# 1 month limit means records for 1 country from last month\n",
    "month_limit = 30\n",
    "# 5889 is last index, so there're 5890 rows -> 5890 / 190 = 31\n",
    "df_limit = 5889\n",
    "index_counter = 0\n",
    "\n",
    "\n",
    "while month_limit <= df_limit:          \n",
    "    \n",
    "    while index_counter <= month_limit and index_counter <= df_limit: \n",
    "        if index_counter == 5889: \n",
    "            break\n",
    "        else:\n",
    "            top_recovered_df['Recovered_increment'][index_counter+1] = top_recovered_df['Recovered'][index_counter+1] - top_recovered_df['Test'][index_counter]\n",
    "            index_counter += 1\n",
    "            \n",
    "    if index_counter >= month_limit:                               \n",
    "        month_limit += 31        "
   ]
  },
  {
   "cell_type": "code",
   "execution_count": null,
   "id": "a0331445-bca9-4e48-8c13-8975ffdd8cd5",
   "metadata": {},
   "outputs": [],
   "source": [
    "top_recovered_df"
   ]
  },
  {
   "cell_type": "code",
   "execution_count": null,
   "id": "forced-monitor",
   "metadata": {},
   "outputs": [],
   "source": [
    "# cleaner look to df\n",
    "top_recovered_df = top_recovered_df[['Country', 'Recovered_increment', 'Date']]\n",
    "# group by country and sum increment\n",
    "top_recovered_df = top_recovered_df.groupby(by=\"Country\").sum()"
   ]
  },
  {
   "cell_type": "code",
   "execution_count": null,
   "id": "decent-salon",
   "metadata": {},
   "outputs": [],
   "source": [
    "# sorting by increment and return first 10\n",
    "top_recovered_df = top_recovered_df.sort_values(by='Recovered_increment', ascending=False).head(10)"
   ]
  },
  {
   "cell_type": "code",
   "execution_count": null,
   "id": "circular-demographic",
   "metadata": {},
   "outputs": [],
   "source": [
    "top_recovered_df"
   ]
  },
  {
   "cell_type": "code",
   "execution_count": null,
   "id": "dramatic-ukraine",
   "metadata": {},
   "outputs": [],
   "source": [
    "plt.figure(figsize=(10 ,7))\n",
    "sns.barplot(x=top_recovered_df.index, y='Recovered_increment', data=top_recovered_df)\n",
    "#plt.yticks(range(0, int(14e6), int(2e6)))\n",
    "plt.xticks(rotation=45)\n",
    "plt.title(\"TOP 10 państw z największą liczbą wyzdrowień w ostatnim miesiącu\")\n",
    "plt.grid()\n",
    "plt.tight_layout();"
   ]
  },
  {
   "cell_type": "markdown",
   "id": "front-award",
   "metadata": {},
   "source": [
    "# TOP 10 państw z największą liczbą potwierdzonych nowych przypadków zachorowań w ostatnim miesiącu"
   ]
  },
  {
   "cell_type": "code",
   "execution_count": null,
   "id": "conscious-gregory",
   "metadata": {},
   "outputs": [],
   "source": [
    "# picking columns from countries_and_usa_df\n",
    "top_confirmed_df = countries_and_usa_df[['Country', 'Confirmed', 'Date']]"
   ]
  },
  {
   "cell_type": "code",
   "execution_count": null,
   "id": "discrete-jones",
   "metadata": {},
   "outputs": [],
   "source": [
    "# data string slicing - reducting data to year-month-day\n",
    "top_confirmed_df['Date'] = top_confirmed_df['Date'].astype(str).str[:10]\n",
    "# back to datatime type\n",
    "top_confirmed_df['Date'] = pd.to_datetime(top_confirmed_df['Date'])  \n",
    "# masking date data\n",
    "date_mask = (top_confirmed_df['Date'] >= '2021-3-1') & (top_confirmed_df['Date'] <= '2021-3-31')\n",
    "# re-assign to variable\n",
    "top_confirmed_df = top_confirmed_df.loc[date_mask]\n",
    "top_confirmed_df.reset_index(drop=True, inplace=True)"
   ]
  },
  {
   "cell_type": "code",
   "execution_count": null,
   "id": "higher-neighbor",
   "metadata": {},
   "outputs": [],
   "source": [
    "top_confirmed_df = top_confirmed_df[['Country', 'Date', 'Confirmed']].groupby(['Country', 'Date']).sum()\n",
    "top_confirmed_df.reset_index(inplace=True)"
   ]
  },
  {
   "cell_type": "code",
   "execution_count": null,
   "id": "naval-showcase",
   "metadata": {},
   "outputs": [],
   "source": [
    "# Recovered column copy\n",
    "top_confirmed_df['Test'] = top_confirmed_df['Confirmed']\n",
    "# increment empty column\n",
    "top_confirmed_df['Confirmed_increment'] = 0"
   ]
  },
  {
   "cell_type": "code",
   "execution_count": null,
   "id": "waiting-refund",
   "metadata": {},
   "outputs": [],
   "source": [
    "month_limit = 30\n",
    "df_limit = 5889\n",
    "index_counter = 0\n",
    "\n",
    "\n",
    "while month_limit <= df_limit:          \n",
    "    \n",
    "    while index_counter <= month_limit and index_counter <= df_limit: \n",
    "        if index_counter == 5889: \n",
    "            break\n",
    "        else:\n",
    "            top_confirmed_df['Confirmed_increment'][index_counter+1] = top_confirmed_df['Confirmed'][index_counter+1] - top_confirmed_df['Test'][index_counter]\n",
    "            index_counter += 1\n",
    "            #print(index_counter)                 \n",
    "\n",
    "    if index_counter >= month_limit:                               \n",
    "        month_limit += 31        "
   ]
  },
  {
   "cell_type": "code",
   "execution_count": null,
   "id": "second-aquatic",
   "metadata": {},
   "outputs": [],
   "source": [
    "# cleaner look to df\n",
    "top_confirmed_df = top_confirmed_df[['Country', 'Confirmed_increment', 'Date']]\n",
    "# group by date(month) and sum increment\n",
    "top_confirmed_df = top_confirmed_df.groupby(by=\"Country\").sum()"
   ]
  },
  {
   "cell_type": "code",
   "execution_count": null,
   "id": "green-yemen",
   "metadata": {},
   "outputs": [],
   "source": [
    "# sorting by increment and return first 10\n",
    "top_confirmed_df = top_confirmed_df.sort_values(by='Confirmed_increment', ascending=False).head(10)"
   ]
  },
  {
   "cell_type": "code",
   "execution_count": null,
   "id": "protecting-handling",
   "metadata": {},
   "outputs": [],
   "source": [
    "top_confirmed_df"
   ]
  },
  {
   "cell_type": "code",
   "execution_count": null,
   "id": "accepted-oxygen",
   "metadata": {},
   "outputs": [],
   "source": [
    "plt.figure(figsize=(10 ,7))\n",
    "sns.barplot(x=top_confirmed_df.index, y='Confirmed_increment', data=top_confirmed_df)\n",
    "#plt.yticks(range(0, int(14e6), int(2e6)))\n",
    "plt.xticks(rotation=45)\n",
    "plt.title(\"TOP 10 państw z największą liczbą potwierdzonych nowych przypadków zachorowań w ostatnim miesiącu\")\n",
    "plt.grid()\n",
    "plt.tight_layout()"
   ]
  },
  {
   "cell_type": "markdown",
   "id": "starting-style",
   "metadata": {},
   "source": [
    "# TOP 10 państw z największą liczbą przypadków śmiertelnychw ostatnim miesiącu"
   ]
  },
  {
   "cell_type": "code",
   "execution_count": null,
   "id": "intelligent-strength",
   "metadata": {},
   "outputs": [],
   "source": [
    "# picking columns from countries_and_usa_df\n",
    "top_deaths_df = countries_and_usa_df[['Country', 'Deaths', 'Date']]"
   ]
  },
  {
   "cell_type": "code",
   "execution_count": null,
   "id": "promotional-stewart",
   "metadata": {},
   "outputs": [],
   "source": [
    "# data string slicing - reducting data to year-month-day\n",
    "top_deaths_df['Date'] = top_deaths_df['Date'].astype(str).str[:10]\n",
    "# back to datatime type\n",
    "top_deaths_df['Date'] = pd.to_datetime(top_deaths_df['Date'])  \n",
    "# masking date data\n",
    "date_mask = (top_deaths_df['Date'] >= '2021-3-1') & (top_deaths_df['Date'] <= '2021-3-31')\n",
    "# re-assign to variable\n",
    "top_deaths_df = top_deaths_df.loc[date_mask]\n",
    "top_deaths_df.reset_index(drop=True, inplace=True)"
   ]
  },
  {
   "cell_type": "code",
   "execution_count": null,
   "id": "earned-switzerland",
   "metadata": {},
   "outputs": [],
   "source": [
    "top_deaths_df = top_deaths_df[['Country', 'Date', 'Deaths']].groupby(['Country', 'Date']).sum()\n",
    "top_deaths_df.reset_index(inplace=True)"
   ]
  },
  {
   "cell_type": "code",
   "execution_count": null,
   "id": "gentle-terry",
   "metadata": {},
   "outputs": [],
   "source": [
    "# Recovered column copy\n",
    "top_deaths_df['Test'] = top_deaths_df['Deaths']\n",
    "# increment empty column\n",
    "top_deaths_df['Deaths_increment'] = 0"
   ]
  },
  {
   "cell_type": "code",
   "execution_count": null,
   "id": "indie-florist",
   "metadata": {},
   "outputs": [],
   "source": [
    "month_limit = 30\n",
    "df_limit = 5889\n",
    "index_counter = 0\n",
    "\n",
    "\n",
    "while month_limit <= df_limit:          \n",
    "    \n",
    "    while index_counter <= month_limit and index_counter <= df_limit: \n",
    "        if index_counter == 5889: \n",
    "            break\n",
    "        else:\n",
    "            top_deaths_df['Deaths_increment'][index_counter+1] = top_deaths_df['Deaths'][index_counter+1] - top_deaths_df['Test'][index_counter]\n",
    "            index_counter += 1\n",
    "            #print(index_counter)                 \n",
    "\n",
    "    if index_counter >= month_limit:                               \n",
    "        month_limit += 31        "
   ]
  },
  {
   "cell_type": "code",
   "execution_count": null,
   "id": "confident-marks",
   "metadata": {},
   "outputs": [],
   "source": [
    "# cleaner look to df\n",
    "top_deaths_df = top_deaths_df[['Country', 'Deaths_increment', 'Date']]\n",
    "# group by date(month) and sum increment\n",
    "top_deaths_df = top_deaths_df.groupby(by=\"Country\").sum()"
   ]
  },
  {
   "cell_type": "code",
   "execution_count": null,
   "id": "unique-admission",
   "metadata": {},
   "outputs": [],
   "source": [
    "# sorting by increment and return first 10\n",
    "top_deaths_df = top_deaths_df.sort_values(by='Deaths_increment', ascending=False).head(10)"
   ]
  },
  {
   "cell_type": "code",
   "execution_count": null,
   "id": "interim-korean",
   "metadata": {},
   "outputs": [],
   "source": [
    "top_deaths_df"
   ]
  },
  {
   "cell_type": "code",
   "execution_count": null,
   "id": "exotic-storm",
   "metadata": {},
   "outputs": [],
   "source": [
    "plt.figure(figsize=(10 ,7))\n",
    "sns.barplot(x=top_deaths_df.index, y='Deaths_increment', data=top_deaths_df)\n",
    "#plt.yticks(range(0, int(14e6), int(2e6)))\n",
    "plt.xticks(rotation=45)\n",
    "plt.title(\"# TOP 10 państw z największą liczbą przypadków śmiertelnychw ostatnim miesiącu\")\n",
    "plt.grid()\n",
    "plt.tight_layout()"
   ]
  },
  {
   "cell_type": "markdown",
   "id": "incorrect-color",
   "metadata": {},
   "source": [
    "# Statystyki z wyzdrowień, nowych przypadków zachorowań oraz przypadków śmiertelnych dla Polski za ostatni miesiąc"
   ]
  },
  {
   "cell_type": "code",
   "execution_count": null,
   "id": "ranking-lying",
   "metadata": {},
   "outputs": [],
   "source": [
    "# reduce countries_df to Poland records\n",
    "poland_df = countries_df.loc[countries_df[\"Country\"]=='Poland']\n",
    "poland_df.reset_index(drop=True, inplace=True)"
   ]
  },
  {
   "cell_type": "code",
   "execution_count": null,
   "id": "coastal-gates",
   "metadata": {},
   "outputs": [],
   "source": [
    "# data string slicing - reducting data to year-month-day\n",
    "poland_df['Date'] = poland_df['Date'].astype(str).str[:10]\n",
    "# back to datatime type\n",
    "poland_df['Date'] = pd.to_datetime(poland_df['Date'])  \n",
    "# masking date data\n",
    "date_mask = (poland_df['Date'] >= '2021-3-1') & (poland_df['Date'] <= '2021-3-31')\n",
    "# re-assign to variable\n",
    "poland_df = poland_df.loc[date_mask]\n",
    "poland_df.reset_index(drop=True, inplace=True)"
   ]
  },
  {
   "cell_type": "code",
   "execution_count": null,
   "id": "modular-differential",
   "metadata": {},
   "outputs": [],
   "source": [
    "# managing outliner in 'Active' column\n",
    "idx = poland_df.index[poland_df['Active'] > 1e6].tolist()\n",
    "poland_df.iloc[idx[0], 4] = poland_df.iloc[idx[0], 1] - poland_df.iloc[idx[0], 2] - poland_df.iloc[idx[0], 3]"
   ]
  },
  {
   "cell_type": "code",
   "execution_count": null,
   "id": "medical-count",
   "metadata": {},
   "outputs": [],
   "source": [
    "poland_df"
   ]
  },
  {
   "cell_type": "code",
   "execution_count": null,
   "id": "visible-delivery",
   "metadata": {},
   "outputs": [],
   "source": [
    "fig, axes = plt.subplots(4, 1, figsize=(12, 10), sharex=True)\n",
    "\n",
    "plt.suptitle(\"Statystyki dla Polski za ostatni miesiąc\", fontsize=14)\n",
    "\n",
    "sns.lineplot(ax=axes[0], data=poland_df, x='Date', y='Confirmed', color='orange', linewidth=2)\n",
    "axes[0].set_title(\"Confirmed\")\n",
    "axes[0].set_yticks(range(int(16e5), int(25e5), int(1e5)))\n",
    "axes[0].grid(True)\n",
    "\n",
    "sns.lineplot(ax=axes[1], data=poland_df, x='Date', y='Deaths', color='red', linewidth=2)\n",
    "axes[1].set_title(\"Deaths\")\n",
    "axes[1].set_yticks(range(42000, 56000, 2000))\n",
    "axes[1].grid(True)\n",
    "\n",
    "sns.lineplot(ax=axes[2], data=poland_df, x='Date', y='Recovered', color='green', linewidth=2)\n",
    "axes[2].set_title(\"Recovered\")\n",
    "axes[2].set_yticks(range(int(14e5), int(20e5), int(1e5)))\n",
    "axes[2].grid(True)\n",
    "\n",
    "sns.lineplot(ax=axes[3], data=poland_df, x='Date', y='Active', color='blue', linewidth=2)\n",
    "axes[3].tick_params(axis='x', rotation=90)\n",
    "axes[3].set_title(\"Active\")\n",
    "axes[3].set_yticks(range(200000, 480000, 40000))\n",
    "axes[3].set_xticks(poland_df['Date'])\n",
    "axes[3].grid(True)\n",
    "\n",
    "#plt.tight_layout();"
   ]
  },
  {
   "cell_type": "markdown",
   "id": "specified-samba",
   "metadata": {},
   "source": [
    "# Miesięczny przyrost wyzdrowień w ostatnim roku"
   ]
  },
  {
   "cell_type": "code",
   "execution_count": null,
   "id": "stopped-visiting",
   "metadata": {},
   "outputs": [],
   "source": [
    "# picking columns from countries_and_usa_df\n",
    "top_recovered_df = countries_and_usa_df[['Country', 'Recovered', 'Date']]"
   ]
  },
  {
   "cell_type": "code",
   "execution_count": null,
   "id": "compressed-python",
   "metadata": {},
   "outputs": [],
   "source": [
    "# data string slicing - reducting data to year-month-day\n",
    "top_recovered_df['Date'] = top_recovered_df['Date'].astype(str).str[:7]"
   ]
  },
  {
   "cell_type": "code",
   "execution_count": null,
   "id": "found-vietnamese",
   "metadata": {},
   "outputs": [],
   "source": [
    "top_recovered_df = top_recovered_df[['Country', 'Date', 'Recovered']].groupby(['Country', 'Date']).sum()\n",
    "top_recovered_df.reset_index(inplace=True)"
   ]
  },
  {
   "cell_type": "code",
   "execution_count": null,
   "id": "loaded-infection",
   "metadata": {},
   "outputs": [],
   "source": [
    "# Recovered column copy\n",
    "top_recovered_df['Test'] = top_recovered_df['Recovered']\n",
    "# increment empty column\n",
    "top_recovered_df['Recovered_increment'] = 0"
   ]
  },
  {
   "cell_type": "code",
   "execution_count": null,
   "id": "sonic-merchant",
   "metadata": {},
   "outputs": [],
   "source": [
    "month_limit = 30\n",
    "df_limit = 2279\n",
    "index_counter = 0\n",
    "\n",
    "\n",
    "while month_limit <= df_limit:          \n",
    "    \n",
    "    while index_counter <= month_limit and index_counter <= df_limit: \n",
    "        if index_counter == 2279: \n",
    "            break\n",
    "        else:\n",
    "            top_recovered_df['Recovered_increment'][index_counter+1] = top_recovered_df['Recovered'][index_counter+1] - top_recovered_df['Test'][index_counter]\n",
    "            index_counter += 1\n",
    "            #print(index_counter)                 \n",
    "\n",
    "    if index_counter >= month_limit:                               \n",
    "        month_limit += 31        "
   ]
  },
  {
   "cell_type": "code",
   "execution_count": null,
   "id": "daily-health",
   "metadata": {},
   "outputs": [],
   "source": [
    "top_recovered_df.loc[top_recovered_df['Recovered_increment'] < 0, 'Recovered_increment'] = 0"
   ]
  },
  {
   "cell_type": "code",
   "execution_count": null,
   "id": "korean-strategy",
   "metadata": {},
   "outputs": [],
   "source": [
    "# cleaner look to df\n",
    "top_recovered_df = top_recovered_df[['Country', 'Recovered', 'Recovered_increment', 'Date']]\n",
    "# group by date(month) and sum increment\n",
    "top_recovered_df = top_recovered_df.groupby(by=\"Date\").sum()"
   ]
  },
  {
   "cell_type": "code",
   "execution_count": null,
   "id": "driving-yield",
   "metadata": {},
   "outputs": [],
   "source": [
    "# sorting by increment and return first 10\n",
    "top_recovered_df = top_recovered_df.sort_values(by='Date', ascending=True)"
   ]
  },
  {
   "cell_type": "code",
   "execution_count": null,
   "id": "incoming-borough",
   "metadata": {},
   "outputs": [],
   "source": [
    "top_recovered_df"
   ]
  },
  {
   "cell_type": "code",
   "execution_count": null,
   "id": "listed-enough",
   "metadata": {},
   "outputs": [],
   "source": [
    "fig, axes = plt.subplots(2, 1, figsize=(10, 7), sharex=True)\n",
    "\n",
    "plt.suptitle(\"Miesięczny przyrost wyzdrowień w ostatnim roku\", fontsize=14)\n",
    "\n",
    "sns.lineplot(ax=axes[0], data=top_recovered_df, x='Date', y='Recovered_increment', color='red', linewidth=2)\n",
    "axes[0].set_title(\"Increment\")\n",
    "axes[0].grid(True)\n",
    "\n",
    "sns.lineplot(ax=axes[1], data=top_recovered_df, x='Date', y='Recovered', color='green', linewidth=2)\n",
    "axes[1].set_title(\"Recovered\")\n",
    "axes[1].tick_params(axis='x', rotation=45)\n",
    "axes[1].grid(True)\n",
    "\n",
    "#plt.tight_layout()"
   ]
  },
  {
   "cell_type": "code",
   "execution_count": null,
   "id": "f164040c-5294-4d61-ad7c-7ad378aeeafd",
   "metadata": {},
   "outputs": [],
   "source": [
    "# if __name__ == \"__main__\":\n",
    "#     main()"
   ]
  },
  {
   "cell_type": "code",
   "execution_count": null,
   "id": "80f49f7d-8997-4360-aca2-649589036476",
   "metadata": {},
   "outputs": [],
   "source": [
    "# # shell command convert .ipynb to .py\n",
    "# !jupyter nbconvert --to script 2021_Rozwiązanie_BAA_Intern_Dawid_Jaskulski.ipynb"
   ]
  }
 ],
 "metadata": {
  "kernelspec": {
   "display_name": "Python 3",
   "language": "python",
   "name": "python3"
  },
  "language_info": {
   "codemirror_mode": {
    "name": "ipython",
    "version": 3
   },
   "file_extension": ".py",
   "mimetype": "text/x-python",
   "name": "python",
   "nbconvert_exporter": "python",
   "pygments_lexer": "ipython3",
   "version": "3.8.5"
  },
  "toc-autonumbering": false,
  "toc-showcode": false,
  "toc-showmarkdowntxt": false,
  "toc-showtags": false
 },
 "nbformat": 4,
 "nbformat_minor": 5
}
